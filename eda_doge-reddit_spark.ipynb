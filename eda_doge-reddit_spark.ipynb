{
 "cells": [
  {
   "cell_type": "code",
   "execution_count": 2,
   "id": "8744ca2c-6b9e-4618-9675-977c3308cd58",
   "metadata": {
    "tags": []
   },
   "outputs": [
    {
     "name": "stdout",
     "output_type": "stream",
     "text": [
      "Retrieving notices: ...working... done\n",
      "Collecting package metadata (current_repodata.json): done\n",
      "Solving environment: done\n",
      "\n",
      "\n",
      "==> WARNING: A newer version of conda exists. <==\n",
      "  current version: 23.3.1\n",
      "  latest version: 24.3.0\n",
      "\n",
      "Please update conda by running\n",
      "\n",
      "    $ conda update -n base -c defaults conda\n",
      "\n",
      "Or to minimize the number of packages updated during conda update use\n",
      "\n",
      "     conda install conda=24.3.0\n",
      "\n",
      "\n",
      "\n",
      "## Package Plan ##\n",
      "\n",
      "  environment location: /opt/conda\n",
      "\n",
      "  added / updated specs:\n",
      "    - openjdk\n",
      "\n",
      "\n",
      "The following packages will be downloaded:\n",
      "\n",
      "    package                    |            build\n",
      "    ---------------------------|-----------------\n",
      "    ca-certificates-2024.3.11  |       h06a4308_0         127 KB\n",
      "    certifi-2024.2.2           |  py310h06a4308_0         159 KB\n",
      "    openjdk-11.0.13            |       h87a67e3_0       341.0 MB\n",
      "    ------------------------------------------------------------\n",
      "                                           Total:       341.3 MB\n",
      "\n",
      "The following NEW packages will be INSTALLED:\n",
      "\n",
      "  openjdk            pkgs/main/linux-64::openjdk-11.0.13-h87a67e3_0 \n",
      "\n",
      "The following packages will be UPDATED:\n",
      "\n",
      "  ca-certificates    conda-forge::ca-certificates-2023.11.~ --> pkgs/main::ca-certificates-2024.3.11-h06a4308_0 \n",
      "  certifi            conda-forge/noarch::certifi-2023.11.1~ --> pkgs/main/linux-64::certifi-2024.2.2-py310h06a4308_0 \n",
      "\n",
      "\n",
      "\n",
      "Downloading and Extracting Packages\n",
      "certifi-2024.2.2     | 159 KB    |                                       |   0% \n",
      "openjdk-11.0.13      | 341.0 MB  |                                       |   0% \u001b[A\n",
      "\n",
      "ca-certificates-2024 | 127 KB    |                                       |   0% \u001b[A\u001b[A\n",
      "certifi-2024.2.2     | 159 KB    | ##################################### | 100% \u001b[A\n",
      "\n",
      "ca-certificates-2024 | 127 KB    | ##################################### | 100% \u001b[A\u001b[A\n",
      "\n",
      "ca-certificates-2024 | 127 KB    | ##################################### | 100% \u001b[A\u001b[A\n",
      "openjdk-11.0.13      | 341.0 MB  | 6                                     |   2% \u001b[A\n",
      "openjdk-11.0.13      | 341.0 MB  | #5                                    |   4% \u001b[A\n",
      "openjdk-11.0.13      | 341.0 MB  | ###                                   |   8% \u001b[A\n",
      "openjdk-11.0.13      | 341.0 MB  | ####5                                 |  12% \u001b[A\n",
      "openjdk-11.0.13      | 341.0 MB  | ######                                |  16% \u001b[A\n",
      "openjdk-11.0.13      | 341.0 MB  | #######6                              |  21% \u001b[A\n",
      "openjdk-11.0.13      | 341.0 MB  | #########1                            |  25% \u001b[A\n",
      "openjdk-11.0.13      | 341.0 MB  | ##########5                           |  28% \u001b[A\n",
      "openjdk-11.0.13      | 341.0 MB  | ############                          |  33% \u001b[A\n",
      "openjdk-11.0.13      | 341.0 MB  | #############4                        |  36% \u001b[A\n",
      "openjdk-11.0.13      | 341.0 MB  | ##############9                       |  40% \u001b[A\n",
      "openjdk-11.0.13      | 341.0 MB  | ################4                     |  45% \u001b[A\n",
      "openjdk-11.0.13      | 341.0 MB  | #################9                    |  49% \u001b[A\n",
      "openjdk-11.0.13      | 341.0 MB  | ###################4                  |  53% \u001b[A\n",
      "openjdk-11.0.13      | 341.0 MB  | #####################                 |  57% \u001b[A\n",
      "openjdk-11.0.13      | 341.0 MB  | ######################4               |  61% \u001b[A\n",
      "openjdk-11.0.13      | 341.0 MB  | #######################9              |  65% \u001b[A\n",
      "openjdk-11.0.13      | 341.0 MB  | #########################4            |  69% \u001b[A\n",
      "openjdk-11.0.13      | 341.0 MB  | ###########################           |  73% \u001b[A\n",
      "openjdk-11.0.13      | 341.0 MB  | ############################5         |  77% \u001b[A\n",
      "openjdk-11.0.13      | 341.0 MB  | #############################8        |  81% \u001b[A\n",
      "openjdk-11.0.13      | 341.0 MB  | ###############################2      |  84% \u001b[A\n",
      "openjdk-11.0.13      | 341.0 MB  | ################################6     |  88% \u001b[A\n",
      "openjdk-11.0.13      | 341.0 MB  | #################################9    |  92% \u001b[A\n",
      "openjdk-11.0.13      | 341.0 MB  | ###################################2  |  95% \u001b[A\n",
      "openjdk-11.0.13      | 341.0 MB  | ####################################6 |  99% \u001b[A\n",
      "                                                                                \u001b[A\n",
      "                                                                                \u001b[A\n",
      "\n",
      "                                                                                \u001b[A\u001b[A\n",
      "Preparing transaction: done\n",
      "Verifying transaction: done\n",
      "Executing transaction: done\n",
      "\n",
      "Note: you may need to restart the kernel to use updated packages.\n",
      "Collecting pyspark==3.3.0\n",
      "  Using cached pyspark-3.3.0-py2.py3-none-any.whl\n",
      "Collecting py4j==0.10.9.5 (from pyspark==3.3.0)\n",
      "  Using cached py4j-0.10.9.5-py2.py3-none-any.whl.metadata (1.5 kB)\n",
      "Using cached py4j-0.10.9.5-py2.py3-none-any.whl (199 kB)\n",
      "Installing collected packages: py4j, pyspark\n",
      "Successfully installed py4j-0.10.9.5 pyspark-3.3.0\n",
      "\u001b[33mWARNING: Running pip as the 'root' user can result in broken permissions and conflicting behaviour with the system package manager. It is recommended to use a virtual environment instead: https://pip.pypa.io/warnings/venv\u001b[0m\u001b[33m\n",
      "\u001b[0m\n",
      "\u001b[1m[\u001b[0m\u001b[34;49mnotice\u001b[0m\u001b[1;39;49m]\u001b[0m\u001b[39;49m A new release of pip is available: \u001b[0m\u001b[31;49m23.3.1\u001b[0m\u001b[39;49m -> \u001b[0m\u001b[32;49m24.0\u001b[0m\n",
      "\u001b[1m[\u001b[0m\u001b[34;49mnotice\u001b[0m\u001b[1;39;49m]\u001b[0m\u001b[39;49m To update, run: \u001b[0m\u001b[32;49mpip install --upgrade pip\u001b[0m\n",
      "Note: you may need to restart the kernel to use updated packages.\n"
     ]
    },
    {
     "data": {
      "text/html": [
       "<script>Jupyter.notebook.kernel.restart()</script>"
      ],
      "text/plain": [
       "<IPython.core.display.HTML object>"
      ]
     },
     "execution_count": 2,
     "metadata": {},
     "output_type": "execute_result"
    }
   ],
   "source": [
    "# Setup - Run only once per Kernel App\n",
    "%conda install openjdk -y\n",
    "\n",
    "# install PySpark\n",
    "%pip install pyspark==3.3.0\n",
    "\n",
    "# restart kernel\n",
    "from IPython.core.display import HTML\n",
    "HTML(\"<script>Jupyter.notebook.kernel.restart()</script>\")"
   ]
  },
  {
   "cell_type": "code",
   "execution_count": 3,
   "id": "25089fb7-8162-487e-a5be-19295af46599",
   "metadata": {
    "tags": []
   },
   "outputs": [
    {
     "name": "stderr",
     "output_type": "stream",
     "text": [
      "Warning: Ignoring non-Spark config property: fs.s3a.aws.credentials.provider\n"
     ]
    },
    {
     "name": "stdout",
     "output_type": "stream",
     "text": [
      ":: loading settings :: url = jar:file:/opt/conda/lib/python3.10/site-packages/pyspark/jars/ivy-2.5.0.jar!/org/apache/ivy/core/settings/ivysettings.xml\n"
     ]
    },
    {
     "name": "stderr",
     "output_type": "stream",
     "text": [
      "Ivy Default Cache set to: /root/.ivy2/cache\n",
      "The jars for the packages stored in: /root/.ivy2/jars\n",
      "org.apache.hadoop#hadoop-aws added as a dependency\n",
      ":: resolving dependencies :: org.apache.spark#spark-submit-parent-d91007f2-38e3-4bab-a2f8-a276b3d2b123;1.0\n",
      "\tconfs: [default]\n",
      "\tfound org.apache.hadoop#hadoop-aws;3.2.2 in central\n",
      "\tfound com.amazonaws#aws-java-sdk-bundle;1.11.563 in central\n",
      ":: resolution report :: resolve 407ms :: artifacts dl 28ms\n",
      "\t:: modules in use:\n",
      "\tcom.amazonaws#aws-java-sdk-bundle;1.11.563 from central in [default]\n",
      "\torg.apache.hadoop#hadoop-aws;3.2.2 from central in [default]\n",
      "\t---------------------------------------------------------------------\n",
      "\t|                  |            modules            ||   artifacts   |\n",
      "\t|       conf       | number| search|dwnlded|evicted|| number|dwnlded|\n",
      "\t---------------------------------------------------------------------\n",
      "\t|      default     |   2   |   0   |   0   |   0   ||   2   |   0   |\n",
      "\t---------------------------------------------------------------------\n",
      ":: retrieving :: org.apache.spark#spark-submit-parent-d91007f2-38e3-4bab-a2f8-a276b3d2b123\n",
      "\tconfs: [default]\n",
      "\t0 artifacts copied, 2 already retrieved (0kB/15ms)\n"
     ]
    },
    {
     "name": "stdout",
     "output_type": "stream",
     "text": [
      "24/04/05 12:47:28 WARN NativeCodeLoader: Unable to load native-hadoop library for your platform... using builtin-java classes where applicable\n"
     ]
    },
    {
     "name": "stderr",
     "output_type": "stream",
     "text": [
      "Setting default log level to \"WARN\".\n",
      "To adjust logging level use sc.setLogLevel(newLevel). For SparkR, use setLogLevel(newLevel).\n"
     ]
    },
    {
     "name": "stdout",
     "output_type": "stream",
     "text": [
      "3.3.0\n"
     ]
    }
   ],
   "source": [
    "# Import pyspark and build Spark session\n",
    "from pyspark.sql import SparkSession\n",
    "\n",
    "spark = (\n",
    "    SparkSession.builder.appName(\"PySparkApp\")\n",
    "    .config(\"spark.jars.packages\", \"org.apache.hadoop:hadoop-aws:3.2.2\")\n",
    "    .config(\n",
    "        \"fs.s3a.aws.credentials.provider\",\n",
    "        \"com.amazonaws.auth.ContainerCredentialsProvider\",\n",
    "    )\n",
    "    .getOrCreate()\n",
    ")\n",
    "\n",
    "print(spark.version)"
   ]
  },
  {
   "cell_type": "code",
   "execution_count": 4,
   "id": "5b370f6b-f3e4-4481-a2e9-ea1870d44e26",
   "metadata": {
    "tags": []
   },
   "outputs": [
    {
     "name": "stdout",
     "output_type": "stream",
     "text": [
      "                           PRE comments-crypto-doge/\n",
      "                           PRE merged_crypto_doge/\n",
      "                           PRE submission-crypto-doge/\n",
      "                           PRE submission_doge_allreddit/\n",
      "2024-03-30 18:48:50   27266475 kaggle_doge_reddit_post_2021.csv\n"
     ]
    }
   ],
   "source": [
    "!aws s3 ls s3://team4-crypto/"
   ]
  },
  {
   "cell_type": "code",
   "execution_count": 5,
   "id": "72c438a4-46fe-4b92-a869-230f3e8ad11e",
   "metadata": {
    "tags": []
   },
   "outputs": [
    {
     "name": "stdout",
     "output_type": "stream",
     "text": [
      "24/04/05 12:47:53 WARN MetricsConfig: Cannot locate configuration: tried hadoop-metrics2-s3a-file-system.properties,hadoop-metrics2.properties\n"
     ]
    },
    {
     "name": "stderr",
     "output_type": "stream",
     "text": [
      "                                                                                \r"
     ]
    }
   ],
   "source": [
    "merged = spark.read.parquet(\"s3a://team4-crypto/merged_crypto_doge\", header=True)"
   ]
  },
  {
   "cell_type": "code",
   "execution_count": 6,
   "id": "147c00a1-1440-4aaa-85de-4f1b22c6e9fd",
   "metadata": {
    "tags": []
   },
   "outputs": [
    {
     "name": "stdout",
     "output_type": "stream",
     "text": [
      "root\n",
      " |-- subreddit: string (nullable = true)\n",
      " |-- subreddit_id: string (nullable = true)\n",
      " |-- id: string (nullable = true)\n",
      " |-- created_utc: long (nullable = true)\n",
      " |-- author: string (nullable = true)\n",
      " |-- is_self: boolean (nullable = true)\n",
      " |-- num_comments: long (nullable = true)\n",
      " |-- score: long (nullable = true)\n",
      " |-- selftext: string (nullable = true)\n",
      " |-- title: string (nullable = true)\n",
      " |-- com_subreddit: string (nullable = true)\n",
      " |-- com_subreddit_id: string (nullable = true)\n",
      " |-- com_id: string (nullable = true)\n",
      " |-- com_created_utc: long (nullable = true)\n",
      " |-- com_author: string (nullable = true)\n",
      " |-- com_link_id: string (nullable = true)\n",
      " |-- com_score: long (nullable = true)\n",
      " |-- com_body: string (nullable = true)\n",
      " |-- com_submis_id: string (nullable = true)\n",
      "\n"
     ]
    }
   ],
   "source": [
    "merged.printSchema()"
   ]
  },
  {
   "cell_type": "code",
   "execution_count": 7,
   "id": "c6724a8c-587c-4010-9e85-a30bace7d7bb",
   "metadata": {
    "tags": []
   },
   "outputs": [],
   "source": [
    "# imports\n",
    "\n",
    "from pyspark.sql import *\n",
    "from pyspark.sql import functions as f\n",
    "from pyspark.sql.functions import from_unixtime, to_date, col"
   ]
  },
  {
   "cell_type": "markdown",
   "id": "745fa8de-e20d-4ae0-8179-e57c9146c5af",
   "metadata": {},
   "source": [
    "## Unique active days per author - post + comment"
   ]
  },
  {
   "cell_type": "code",
   "execution_count": 8,
   "id": "51d2cac4-5ee7-496d-96b9-cf96f689293a",
   "metadata": {
    "tags": []
   },
   "outputs": [],
   "source": [
    "# Combining post and comment dates into one column for counting unique active days\n",
    "\n",
    "posts_dates = merged.select(f.col(\"author\"),\\\n",
    "                                       f.to_date(f.from_unixtime(\"created_utc\")).alias(\"activity_date\")).distinct()\n",
    "\n",
    "comments_dates = merged.select(f.col(\"com_author\").alias(\"author\"),\\\n",
    "                               f.to_date(f.from_unixtime(\"com_created_utc\")).alias(\"activity_date\"))\n",
    "\n",
    "\n",
    "unique_active_days = posts_dates.unionByName(comments_dates) \\\n",
    "                                 .groupBy(\"author\") \\\n",
    "                                 .agg(f.countDistinct(\"activity_date\").alias(\"unique_active_days\"))\n"
   ]
  },
  {
   "cell_type": "code",
   "execution_count": 9,
   "id": "764be391-5446-4e51-930e-f890c7a863c0",
   "metadata": {
    "tags": []
   },
   "outputs": [
    {
     "name": "stderr",
     "output_type": "stream",
     "text": [
      "[Stage 6:=============================>                             (1 + 1) / 2]\r"
     ]
    },
    {
     "name": "stdout",
     "output_type": "stream",
     "text": [
      "+--------------------+------------------+\n",
      "|              author|unique_active_days|\n",
      "+--------------------+------------------+\n",
      "|           [deleted]|               378|\n",
      "|            42points|               279|\n",
      "|       AutoModerator|               278|\n",
      "|            Fulvio55|               278|\n",
      "|           liquid_at|               278|\n",
      "|     RepostSleuthBot|               260|\n",
      "|           rizzo49er|               253|\n",
      "|         Dogekaliber|               238|\n",
      "|           Jimbo4901|               237|\n",
      "|     masterbatesAlot|               230|\n",
      "|        Mananimalism|               220|\n",
      "|     Mundane_Ad_3106|               204|\n",
      "|           sodogetip|               198|\n",
      "|         KingCoin187|               190|\n",
      "|      theDOGEdolphin|               190|\n",
      "|          terran7777|               182|\n",
      "|        MokolokoPlus|               179|\n",
      "| Good_Extension_9642|               174|\n",
      "|Necessary-Pension224|               172|\n",
      "|           kirtash93|               171|\n",
      "+--------------------+------------------+\n",
      "only showing top 20 rows\n",
      "\n"
     ]
    },
    {
     "name": "stderr",
     "output_type": "stream",
     "text": [
      "                                                                                \r"
     ]
    }
   ],
   "source": [
    "unique_active_days.orderBy(f.col('unique_active_days').desc()).show()"
   ]
  },
  {
   "cell_type": "markdown",
   "id": "fe747d14-80f3-4c22-bfdb-7a7e11f26071",
   "metadata": {},
   "source": [
    "### Comments made by founder of dogecoin u/billymarkus2k"
   ]
  },
  {
   "cell_type": "code",
   "execution_count": 107,
   "id": "dc6c95ef-47da-4810-85f7-3e7cad73c1be",
   "metadata": {
    "tags": []
   },
   "outputs": [
    {
     "name": "stderr",
     "output_type": "stream",
     "text": [
      "[Stage 287:>                                                        (0 + 1) / 1]\r"
     ]
    },
    {
     "name": "stdout",
     "output_type": "stream",
     "text": [
      "+------------------+-------------+------------+--------------------------------------------------------------------------------------------------------------------------------------------------------------------------------------------------------------------------------------------------------------------------------------------------------------------------------------------------------------------------------------------------------------------------------------------------------------------------------------------------------------+\n",
      "|author            |com_subreddit|num_comments|com_body                                                                                                                                                                                                                                                                                                                                                                                                                                                                                                      |\n",
      "+------------------+-------------+------------+--------------------------------------------------------------------------------------------------------------------------------------------------------------------------------------------------------------------------------------------------------------------------------------------------------------------------------------------------------------------------------------------------------------------------------------------------------------------------------------------------------------+\n",
      "|sharif331         |dogecoin     |20          |This is about adding your address to twitter’s tip jar. Pretty much every comment in this thread is wrong.                                                                                                                                                                                                                                                                                                                                                                                                    |\n",
      "|sharif331         |dogecoin     |20          |It just adds your address to your twitter account for easy copying. Twitter doesn’t store your dogecoin. So you wouldn’t lose it.                                                                                                                                                                                                                                                                                                                                                                             |\n",
      "|sharif331         |dogecoin     |20          |yes. It’s an address, not a tip bot.                                                                                                                                                                                                                                                                                                                                                                                                                                                                          |\n",
      "|SeaScarcity2110   |dogecoin     |299         |I’m not bitter, this is literally just advice on how people can achieve their desires.\\n\\nI’m not criticizing the builders at all. The builders are great. The ones that aren’t doing anything but pointing fingers, blaming, and whining aren’t. \\n\\nThis message isn’t difficult to parse without getting angry at the messenger.\\n\\nAnd guess what: my opinion has not changed in 8 years. It’s the same as it was when dogecoin was made. Whiners contribute negative value. Builders actually contribute.|\n",
      "|Sacaracaman       |dogecoin     |22          |naw it’s just a silly tweet, y’all read into stuff too much lol \\n\\nprice action in crypto tho is basically just random crap                                                                                                                                                                                                                                                                                                                                                                                  |\n",
      "|[deleted]         |dogecoin     |24          |Twitter only allows 280 characters. Nuance is difficult. Not everyone is included in the statement, assuming absolutes when reading tweets is not advised.                                                                                                                                                                                                                                                                                                                                                    |\n",
      "|[deleted]         |dogecoin     |24          |If you look at my other tweets, I give lots of positive feedback to those who are working hard to make dogecoin successful.\\n\\nIf you take a single thing someone said and generalize everything ever out of it, you'll continually misunderstand people's intentions.                                                                                                                                                                                                                                        |\n",
      "|[deleted]         |dogecoin     |24          |talking about problematic people doesn’t mean there aren’t good people too! \\n\\nbut even look at this sub. it’s all about price.                                                                                                                                                                                                                                                                                                                                                                              |\n",
      "|Candid_Sundae_5182|dogecoin     |52          |i made the coin and worked on it for 5 releases. i’ve done my part. what have you done?                                                                                                                                                                                                                                                                                                                                                                                                                       |\n",
      "|bitdex            |dogecoin     |3           |yeah that guy sucks                                                                                                                                                                                                                                                                                                                                                                                                                                                                                           |\n",
      "+------------------+-------------+------------+--------------------------------------------------------------------------------------------------------------------------------------------------------------------------------------------------------------------------------------------------------------------------------------------------------------------------------------------------------------------------------------------------------------------------------------------------------------------------------------------------------------+\n",
      "\n"
     ]
    },
    {
     "name": "stderr",
     "output_type": "stream",
     "text": [
      "                                                                                \r"
     ]
    }
   ],
   "source": [
    "merged.filter((merged.com_author == 'billymarkus2k')\\\n",
    "              |( merged.author == 'billymarkus2k'))\\\n",
    ".select('author','com_subreddit','num_comments','com_body').show(20, truncate=False)"
   ]
  },
  {
   "cell_type": "markdown",
   "id": "66b6f460",
   "metadata": {},
   "source": [
    "---\n"
   ]
  },
  {
   "cell_type": "markdown",
   "id": "5ff2cb3e",
   "metadata": {},
   "source": [
    "## Daily and Monthly Active Users"
   ]
  },
  {
   "cell_type": "code",
   "execution_count": 55,
   "id": "06e542df-d3dc-4841-b33d-aa16146e52bd",
   "metadata": {
    "tags": []
   },
   "outputs": [
    {
     "name": "stdout",
     "output_type": "stream",
     "text": [
      "+-------+-----------+--------------------+---------------+--------------------+\n",
      "|     id|created_utc|              author|com_created_utc|          com_author|\n",
      "+-------+-----------+--------------------+---------------+--------------------+\n",
      "|10007a6| 1672510767|     SurelyGeorgeZip|     1672510767|       AutoModerator|\n",
      "|1015i59| 1672640995|        DavisSsS1373|           null|                null|\n",
      "|101a0ol| 1672657440|     cryptoheimdallr|     1672678000|         MissGone300|\n",
      "|101a0ol| 1672657440|     cryptoheimdallr|     1672679581|        voterosticon|\n",
      "|101a0ol| 1672657440|     cryptoheimdallr|     1672710393|          M-Apple123|\n",
      "|101i88s| 1672680620|         TerminatorJ|     1672744879|           SirEffKay|\n",
      "|101i88s| 1672680620|         TerminatorJ|     1672680861|           [deleted]|\n",
      "|101i88s| 1672680620|         TerminatorJ|     1672687419|     masterbatesAlot|\n",
      "|101o767| 1672694728|         ogwarpriest|           null|                null|\n",
      "|101vv9t| 1672713843|Sea_Yogurtcloset7494|     1672715043|      Same_Class5866|\n",
      "|102t1v9| 1672804120|          eric-weiss|     1672807195|    thedivinegrackle|\n",
      "|1032u6z| 1672836341|  Then_Chipmunk_4725|           null|                null|\n",
      "|1039usz| 1672854444|         vampirello7|     1672940355|         vampirello7|\n",
      "|1039usz| 1672854444|         vampirello7|     1672943680|         vampirello7|\n",
      "|103gdlp| 1672869471| Salty_Mulberry_2074|     1672871672| ElectricFleshPuppet|\n",
      "|103gdlp| 1672869471| Salty_Mulberry_2074|     1672887559|         Dogekaliber|\n",
      "|103gl52| 1672869933|       DeathsShadow_|     1672943751|          myironcity|\n",
      "|103gl52| 1672869933|       DeathsShadow_|     1672889295|Temporary-Muffin-756|\n",
      "|103gwhl| 1672870653|    Mammoth_Sun_2323|           null|                null|\n",
      "|103jym3| 1672877905| Ok-Supermarket-6747|     1672911448| Ok-Supermarket-6747|\n",
      "+-------+-----------+--------------------+---------------+--------------------+\n",
      "only showing top 20 rows\n",
      "\n"
     ]
    }
   ],
   "source": [
    "merged.select(\"id\",\"created_utc\", \"author\", \"com_created_utc\",\"com_author\").show()"
   ]
  },
  {
   "cell_type": "code",
   "execution_count": 10,
   "id": "e9d5870e-9d0d-46f3-9ed7-6be61af0b1e5",
   "metadata": {
    "tags": []
   },
   "outputs": [],
   "source": [
    "# Aggregate posts by day and author, counting unique ids\n",
    "posts_per_day_author = merged.groupBy(\"created_utc\", \"author\")\\\n",
    "                             .agg(f.countDistinct(\"id\").alias(\"num_posts\"))\\\n",
    "                             .withColumnRenamed(\"author\", \"post_author\")"
   ]
  },
  {
   "cell_type": "code",
   "execution_count": 11,
   "id": "298bd9df-608d-4a9a-a10b-4a512c3fdc57",
   "metadata": {
    "tags": []
   },
   "outputs": [
    {
     "name": "stderr",
     "output_type": "stream",
     "text": [
      "[Stage 11:=============================>                            (1 + 1) / 2]\r"
     ]
    },
    {
     "name": "stdout",
     "output_type": "stream",
     "text": [
      "+-----------+--------------------+---------+\n",
      "|created_utc|         post_author|num_posts|\n",
      "+-----------+--------------------+---------+\n",
      "| 1669641784| Frequent-Earth-1661|        1|\n",
      "| 1645625055|         Steven44323|        1|\n",
      "| 1641980400|     SeaScarcity2110|        1|\n",
      "| 1668238415|Longjumping-Creme952|        1|\n",
      "| 1641348234|   BlazingHotFireFox|        1|\n",
      "| 1672961310|              JayTP-|        1|\n",
      "| 1642089535|           achette98|        1|\n",
      "| 1645145150|           [deleted]|        1|\n",
      "| 1648070394|          R1presents|        1|\n",
      "| 1650909177|             Fahjahh|        1|\n",
      "| 1646500633|            Gmotunde|        1|\n",
      "| 1645999220|            Undtaser|        1|\n",
      "| 1650067087|           [deleted]|        1|\n",
      "| 1651052834|            42points|        1|\n",
      "| 1659667239|           [deleted]|        1|\n",
      "| 1672096725|           BzKDragon|        1|\n",
      "| 1645676269|           [deleted]|        1|\n",
      "| 1654182853|         ShipDue7617|        1|\n",
      "| 1668244428|            42points|        1|\n",
      "| 1651232121|   Valuable_Hope1631|        1|\n",
      "+-----------+--------------------+---------+\n",
      "only showing top 20 rows\n",
      "\n"
     ]
    },
    {
     "name": "stderr",
     "output_type": "stream",
     "text": [
      "                                                                                \r"
     ]
    }
   ],
   "source": [
    "posts_per_day_author.show()"
   ]
  },
  {
   "cell_type": "code",
   "execution_count": 102,
   "id": "fb1dc936-6ca9-4fdd-ab51-d25629e2f446",
   "metadata": {
    "tags": []
   },
   "outputs": [
    {
     "name": "stderr",
     "output_type": "stream",
     "text": [
      "                                                                                \r"
     ]
    },
    {
     "data": {
      "text/plain": [
       "15893"
      ]
     },
     "execution_count": 102,
     "metadata": {},
     "output_type": "execute_result"
    }
   ],
   "source": [
    "merged.filter(col(\"com_created_utc\").isNull()).count()"
   ]
  },
  {
   "cell_type": "markdown",
   "id": "96d5c73d-b690-4faf-a96f-3b4d9aa3410f",
   "metadata": {},
   "source": [
    "These would be posts without any comments"
   ]
  },
  {
   "cell_type": "code",
   "execution_count": 12,
   "id": "6555aaa8-8804-4ef5-86d4-b7a8a8e073d8",
   "metadata": {
    "tags": []
   },
   "outputs": [
    {
     "name": "stderr",
     "output_type": "stream",
     "text": [
      "[Stage 17:=============================>                            (1 + 1) / 2]\r"
     ]
    },
    {
     "name": "stdout",
     "output_type": "stream",
     "text": [
      "+---------------+--------------------+------------+\n",
      "|com_created_utc|      comment_author|num_comments|\n",
      "+---------------+--------------------+------------+\n",
      "|     1673000338|            BriBumer|           1|\n",
      "|     1673355153|         MissionDoge|           1|\n",
      "|     1673662151|        Signiference|           1|\n",
      "|     1673674375|            Kino1337|           1|\n",
      "|     1673789080|        CRYPTOGLYPHi|           1|\n",
      "|     1673986373|Mediocre-Action-2958|           1|\n",
      "|     1674034430|   reddit-is-so-nice|           1|\n",
      "|     1674410348|           [deleted]|           1|\n",
      "|     1674670729|Melodic_Assistance84|           1|\n",
      "|     1641123049|Traditional_Fruit_40|           1|\n",
      "|     1641128722|Dependent-Plenty-222|           1|\n",
      "|     1641172396|    Informal-Tie4617|           1|\n",
      "|     1641315406|           wylie2020|           1|\n",
      "|     1641291951|           [deleted]|           1|\n",
      "|     1641249254|           FSantos09|           1|\n",
      "|     1641323877|           [deleted]|           1|\n",
      "|     1643488298|           [deleted]|           1|\n",
      "|     1641389364|Puzzleheaded_Salt259|           1|\n",
      "|     1641359288|         JoiSullivan|           1|\n",
      "|     1641468554|           [deleted]|           1|\n",
      "+---------------+--------------------+------------+\n",
      "only showing top 20 rows\n",
      "\n"
     ]
    },
    {
     "name": "stderr",
     "output_type": "stream",
     "text": [
      "                                                                                \r"
     ]
    }
   ],
   "source": [
    "filtered_merged = merged.filter(f.col(\"com_created_utc\").isNotNull())\n",
    "\n",
    "\n",
    "comments_per_day_author = filtered_merged.groupBy(\"com_created_utc\", \"com_author\").count()\\\n",
    "                                         .withColumnRenamed(\"count\", \"num_comments\")\\\n",
    "                                         .withColumnRenamed(\"com_author\", \"comment_author\")\n",
    "\n",
    "comments_per_day_author.show()"
   ]
  },
  {
   "cell_type": "code",
   "execution_count": 13,
   "id": "5798591f-de62-4396-a090-6f244256f411",
   "metadata": {
    "tags": []
   },
   "outputs": [
    {
     "name": "stderr",
     "output_type": "stream",
     "text": [
      "[Stage 27:>                                                         (0 + 1) / 1]\r"
     ]
    },
    {
     "name": "stdout",
     "output_type": "stream",
     "text": [
      "+-----------+---------------+---------+---------------+------------------+------------+\n",
      "|created_utc|    post_author|num_posts|com_created_utc|    comment_author|num_comments|\n",
      "+-----------+---------------+---------+---------------+------------------+------------+\n",
      "| 1640995576|   BokChoySlaps|        1|           null|              null|        null|\n",
      "|       null|           null|     null|     1640996143| dontlookformehere|           1|\n",
      "|       null|           null|     null|     1640996262|            Mau120|           1|\n",
      "|       null|           null|     null|     1640996267|    purpledream999|           1|\n",
      "|       null|           null|     null|     1640996278|      Real-Toe2749|           1|\n",
      "|       null|           null|     null|     1640996294|       wetmanbrown|           1|\n",
      "|       null|           null|     null|     1640996363|      deathtolucky|           1|\n",
      "|       null|           null|     null|     1640996431| TrafficConeWriter|           1|\n",
      "|       null|           null|     null|     1640996552|      Real-Toe2749|           1|\n",
      "|       null|           null|     null|     1640996554|        bsmith2580|           1|\n",
      "|       null|           null|     null|     1640996581|         [deleted]|           1|\n",
      "|       null|           null|     null|     1640996727|        Wired-Lain|           1|\n",
      "|       null|           null|     null|     1640996875|         [deleted]|           1|\n",
      "|       null|           null|     null|     1640996907|             kwx33|           1|\n",
      "|       null|           null|     null|     1640996982|         whoischig|           1|\n",
      "|       null|           null|     null|     1640997009|Canadian_Maple_1OZ|           1|\n",
      "|       null|           null|     null|     1640997222|    purpledream999|           1|\n",
      "|       null|           null|     null|     1640997304|             kwx33|           1|\n",
      "|       null|           null|     null|     1640997305|    purpledream999|           1|\n",
      "| 1640997473|steveoidontknow|        1|           null|              null|        null|\n",
      "+-----------+---------------+---------+---------------+------------------+------------+\n",
      "only showing top 20 rows\n",
      "\n"
     ]
    },
    {
     "name": "stderr",
     "output_type": "stream",
     "text": [
      "                                                                                \r"
     ]
    }
   ],
   "source": [
    "joined_df = posts_per_day_author.join(\n",
    "    comments_per_day_author,\n",
    "    (posts_per_day_author.created_utc == comments_per_day_author.com_created_utc) & \n",
    "    (posts_per_day_author.post_author == comments_per_day_author.comment_author),\n",
    "    \"outer\"  \n",
    ")\n",
    "\n",
    "# Show the resulting DataFrame to verify the join\n",
    "joined_df.show()"
   ]
  },
  {
   "cell_type": "code",
   "execution_count": 14,
   "id": "cc5ffa48-2876-44dc-ab56-1e6122491c17",
   "metadata": {
    "tags": []
   },
   "outputs": [],
   "source": [
    "merged_with_date_and_author2 = joined_df.withColumn(\n",
    "    \"udate\",\n",
    "    f.coalesce(\n",
    "        f.to_date(f.from_unixtime(\"created_utc\")),\n",
    "        f.to_date(f.from_unixtime(\"com_created_utc\"))\n",
    "    )\n",
    ").withColumn(\n",
    "    \"uauthor\",\n",
    "    f.coalesce(f.col(\"post_author\"), f.col(\"comment_author\"))\n",
    ")\n",
    "\n",
    "merged_with_date_and_author2 = merged_with_date_and_author2.withColumn(\"day\", f.dayofmonth(\"udate\"))\\\n",
    "                           .withColumn(\"month\", f.month(\"udate\"))\\\n",
    "                           .withColumn(\"year\", f.year(\"udate\"))"
   ]
  },
  {
   "cell_type": "code",
   "execution_count": 15,
   "id": "7fc1481e-4621-41e7-b935-3bf35125ef8e",
   "metadata": {
    "tags": []
   },
   "outputs": [
    {
     "name": "stderr",
     "output_type": "stream",
     "text": [
      "[Stage 35:>                                                         (0 + 1) / 1]\r"
     ]
    },
    {
     "name": "stdout",
     "output_type": "stream",
     "text": [
      "+-----------+------------+---------+---------------+-----------------+------------+----------+-----------------+---+-----+----+\n",
      "|created_utc| post_author|num_posts|com_created_utc|   comment_author|num_comments|     udate|          uauthor|day|month|year|\n",
      "+-----------+------------+---------+---------------+-----------------+------------+----------+-----------------+---+-----+----+\n",
      "| 1640995576|BokChoySlaps|        1|           null|             null|        null|2022-01-01|     BokChoySlaps|  1|    1|2022|\n",
      "|       null|        null|     null|     1640996143|dontlookformehere|           1|2022-01-01|dontlookformehere|  1|    1|2022|\n",
      "|       null|        null|     null|     1640996262|           Mau120|           1|2022-01-01|           Mau120|  1|    1|2022|\n",
      "|       null|        null|     null|     1640996267|   purpledream999|           1|2022-01-01|   purpledream999|  1|    1|2022|\n",
      "|       null|        null|     null|     1640996278|     Real-Toe2749|           1|2022-01-01|     Real-Toe2749|  1|    1|2022|\n",
      "+-----------+------------+---------+---------------+-----------------+------------+----------+-----------------+---+-----+----+\n",
      "only showing top 5 rows\n",
      "\n"
     ]
    },
    {
     "name": "stderr",
     "output_type": "stream",
     "text": [
      "                                                                                \r"
     ]
    }
   ],
   "source": [
    "merged_with_date_and_author2.show(5)"
   ]
  },
  {
   "cell_type": "code",
   "execution_count": 16,
   "id": "961cdc80-04d9-4223-b6d5-82b3751ddde2",
   "metadata": {
    "tags": []
   },
   "outputs": [],
   "source": [
    "new_daily = merged_with_date_and_author2.select(\"year\", \"month\", \"day\", \"udate\", \"uauthor\", \"num_posts\",\"num_comments\").na.fill(0)"
   ]
  },
  {
   "cell_type": "code",
   "execution_count": 17,
   "id": "e001204c-a5c3-474a-afa8-e679ffb9e159",
   "metadata": {
    "tags": []
   },
   "outputs": [
    {
     "name": "stderr",
     "output_type": "stream",
     "text": [
      "[Stage 37:=========>        (1 + 1) / 2][Stage 39:>                 (0 + 1) / 1]\r"
     ]
    },
    {
     "name": "stdout",
     "output_type": "stream",
     "text": [
      "+----+-----+---+----------+------------------+---------+------------+\n",
      "|year|month|day|     udate|           uauthor|num_posts|num_comments|\n",
      "+----+-----+---+----------+------------------+---------+------------+\n",
      "|2022|    1|  1|2022-01-01|      BokChoySlaps|        1|           0|\n",
      "|2022|    1|  1|2022-01-01| dontlookformehere|        0|           1|\n",
      "|2022|    1|  1|2022-01-01|            Mau120|        0|           1|\n",
      "|2022|    1|  1|2022-01-01|    purpledream999|        0|           1|\n",
      "|2022|    1|  1|2022-01-01|      Real-Toe2749|        0|           1|\n",
      "|2022|    1|  1|2022-01-01|       wetmanbrown|        0|           1|\n",
      "|2022|    1|  1|2022-01-01|      deathtolucky|        0|           1|\n",
      "|2022|    1|  1|2022-01-01| TrafficConeWriter|        0|           1|\n",
      "|2022|    1|  1|2022-01-01|      Real-Toe2749|        0|           1|\n",
      "|2022|    1|  1|2022-01-01|        bsmith2580|        0|           1|\n",
      "|2022|    1|  1|2022-01-01|         [deleted]|        0|           1|\n",
      "|2022|    1|  1|2022-01-01|        Wired-Lain|        0|           1|\n",
      "|2022|    1|  1|2022-01-01|         [deleted]|        0|           1|\n",
      "|2022|    1|  1|2022-01-01|             kwx33|        0|           1|\n",
      "|2022|    1|  1|2022-01-01|         whoischig|        0|           1|\n",
      "|2022|    1|  1|2022-01-01|Canadian_Maple_1OZ|        0|           1|\n",
      "|2022|    1|  1|2022-01-01|    purpledream999|        0|           1|\n",
      "|2022|    1|  1|2022-01-01|             kwx33|        0|           1|\n",
      "|2022|    1|  1|2022-01-01|    purpledream999|        0|           1|\n",
      "|2022|    1|  1|2022-01-01|   steveoidontknow|        1|           0|\n",
      "+----+-----+---+----------+------------------+---------+------------+\n",
      "only showing top 20 rows\n",
      "\n"
     ]
    },
    {
     "name": "stderr",
     "output_type": "stream",
     "text": [
      "                                                                                \r"
     ]
    }
   ],
   "source": [
    "new_daily.show()"
   ]
  },
  {
   "cell_type": "code",
   "execution_count": 18,
   "id": "4aaffb04-4e6d-4a60-9c92-cebedfe41598",
   "metadata": {
    "tags": []
   },
   "outputs": [],
   "source": [
    "new_daily_active_users = new_daily.groupBy(\"udate\", \"uauthor\").count().withColumnRenamed(\"count\", \"num_posts_comm\")\n",
    "new_monthly_active_users = new_daily.groupBy(\"year\",\"month\", \"uauthor\").count().withColumnRenamed(\"count\", \"num_posts_comm\")"
   ]
  },
  {
   "cell_type": "code",
   "execution_count": 19,
   "id": "7c6dbf33-2605-4a19-9824-dca5a151e9f5",
   "metadata": {
    "tags": []
   },
   "outputs": [
    {
     "name": "stderr",
     "output_type": "stream",
     "text": [
      "[Stage 48:>                                                         (0 + 2) / 2]\r"
     ]
    },
    {
     "name": "stdout",
     "output_type": "stream",
     "text": [
      "+----------+--------------------+--------------+\n",
      "|     udate|             uauthor|num_posts_comm|\n",
      "+----------+--------------------+--------------+\n",
      "|2022-01-01|       ricardovarona|             1|\n",
      "|2022-01-01|        furryaltowo1|             8|\n",
      "|2022-01-01|            Brimmert|             1|\n",
      "|2022-01-01|Effective_Explorer95|             2|\n",
      "|2022-01-01|         riffahs_ira|             1|\n",
      "+----------+--------------------+--------------+\n",
      "only showing top 5 rows\n",
      "\n"
     ]
    },
    {
     "name": "stderr",
     "output_type": "stream",
     "text": [
      "                                                                                \r"
     ]
    }
   ],
   "source": [
    "new_daily_active_users.show(5)"
   ]
  },
  {
   "cell_type": "code",
   "execution_count": 20,
   "id": "9dd3dcfc-3de9-41d4-8ea2-02758c243965",
   "metadata": {
    "tags": []
   },
   "outputs": [
    {
     "name": "stderr",
     "output_type": "stream",
     "text": [
      "[Stage 57:>                                                         (0 + 2) / 2]\r"
     ]
    },
    {
     "name": "stdout",
     "output_type": "stream",
     "text": [
      "+----+-----+-----------+--------------+\n",
      "|year|month|    uauthor|num_posts_comm|\n",
      "+----+-----+-----------+--------------+\n",
      "|2022|    1|MightyMoria|             1|\n",
      "|2022|    1|  MilchDeep|             2|\n",
      "|2022|    1|    btopski|             2|\n",
      "|2022|    1|     Joroda|             5|\n",
      "|2022|    1| CryptoRipz|             7|\n",
      "+----+-----+-----------+--------------+\n",
      "only showing top 5 rows\n",
      "\n"
     ]
    },
    {
     "name": "stderr",
     "output_type": "stream",
     "text": [
      "                                                                                \r"
     ]
    }
   ],
   "source": [
    "new_monthly_active_users.show(5)"
   ]
  },
  {
   "cell_type": "code",
   "execution_count": 21,
   "id": "ee9d1a43-7973-4279-b05e-55f29c8e3fc5",
   "metadata": {
    "tags": []
   },
   "outputs": [
    {
     "name": "stderr",
     "output_type": "stream",
     "text": [
      "                                                                                \r"
     ]
    },
    {
     "data": {
      "text/plain": [
       "395"
      ]
     },
     "execution_count": 21,
     "metadata": {},
     "output_type": "execute_result"
    }
   ],
   "source": [
    "new_daily_active_users.select(\"udate\").distinct().count()"
   ]
  },
  {
   "cell_type": "code",
   "execution_count": 22,
   "id": "6cdd585d-4cf0-456b-b4d0-e9f2a48b1fec",
   "metadata": {
    "tags": []
   },
   "outputs": [],
   "source": [
    "new_daily_active_total = new_daily_active_users.groupBy(\"udate\").count().withColumnRenamed(\"count\", \"daily_users\")"
   ]
  },
  {
   "cell_type": "code",
   "execution_count": 23,
   "id": "6ae48778-9230-4b53-8fb3-0e06c1a18db2",
   "metadata": {
    "tags": []
   },
   "outputs": [],
   "source": [
    "new_monthly_active_total = new_monthly_active_users.groupBy(\"year\",\"month\").count()\\\n",
    ".withColumnRenamed(\"count\", \"monthly_users\")"
   ]
  },
  {
   "cell_type": "code",
   "execution_count": 24,
   "id": "a8f8886e-0f9f-44e5-ace4-9493881d1b3f",
   "metadata": {
    "tags": []
   },
   "outputs": [
    {
     "name": "stderr",
     "output_type": "stream",
     "text": [
      "[Stage 80:>                                                         (0 + 2) / 2]\r"
     ]
    },
    {
     "name": "stdout",
     "output_type": "stream",
     "text": [
      "+----------+-----------+\n",
      "|     udate|daily_users|\n",
      "+----------+-----------+\n",
      "|2022-03-28|       1521|\n",
      "|2022-07-31|          3|\n",
      "|2022-08-02|        509|\n",
      "|2022-11-29|        969|\n",
      "|2022-12-25|        460|\n",
      "|2022-07-27|          6|\n",
      "|2022-01-31|          5|\n",
      "|2022-05-19|          6|\n",
      "|2022-06-18|          8|\n",
      "|2022-06-22|          5|\n",
      "|2022-03-16|        911|\n",
      "|2022-06-06|        648|\n",
      "|2022-11-21|        466|\n",
      "|2022-07-07|        617|\n",
      "|2022-03-12|        999|\n",
      "|2022-03-15|        795|\n",
      "|2022-04-02|       2356|\n",
      "|2022-04-10|        870|\n",
      "|2022-12-09|        873|\n",
      "|2022-12-02|        475|\n",
      "+----------+-----------+\n",
      "only showing top 20 rows\n",
      "\n"
     ]
    },
    {
     "name": "stderr",
     "output_type": "stream",
     "text": [
      "                                                                                \r"
     ]
    }
   ],
   "source": [
    "new_daily_active_total.show()"
   ]
  },
  {
   "cell_type": "code",
   "execution_count": 25,
   "id": "c8413a0a-a80b-4546-8388-b064877b7f2f",
   "metadata": {
    "tags": []
   },
   "outputs": [
    {
     "name": "stderr",
     "output_type": "stream",
     "text": [
      "[Stage 94:=============================>                            (1 + 1) / 2]\r"
     ]
    },
    {
     "name": "stdout",
     "output_type": "stream",
     "text": [
      "+----+-----+-------------+\n",
      "|year|month|monthly_users|\n",
      "+----+-----+-------------+\n",
      "|2022|   10|         6086|\n",
      "|2022|    2|        18767|\n",
      "|2022|    7|         6138|\n",
      "|2022|   11|        13719|\n",
      "|2022|    3|        19635|\n",
      "+----+-----+-------------+\n",
      "only showing top 5 rows\n",
      "\n"
     ]
    },
    {
     "name": "stderr",
     "output_type": "stream",
     "text": [
      "                                                                                \r"
     ]
    }
   ],
   "source": [
    "new_monthly_active_total.show(5)"
   ]
  },
  {
   "cell_type": "code",
   "execution_count": 26,
   "id": "9fdf709a-f57c-477f-b026-05cf24ce0f91",
   "metadata": {
    "tags": []
   },
   "outputs": [
    {
     "name": "stderr",
     "output_type": "stream",
     "text": [
      "                                                                                \r"
     ]
    },
    {
     "data": {
      "text/plain": [
       "395"
      ]
     },
     "execution_count": 26,
     "metadata": {},
     "output_type": "execute_result"
    }
   ],
   "source": [
    "new_daily_active_total.select(\"udate\").distinct().count()"
   ]
  },
  {
   "cell_type": "code",
   "execution_count": 155,
   "id": "571655ef-5a7b-47aa-87aa-ebc6968461a6",
   "metadata": {
    "tags": []
   },
   "outputs": [
    {
     "name": "stderr",
     "output_type": "stream",
     "text": [
      "[Stage 1016:>                                                       (0 + 2) / 2]\r"
     ]
    },
    {
     "name": "stdout",
     "output_type": "stream",
     "text": [
      "+----------+-----------+\n",
      "|     udate|daily_users|\n",
      "+----------+-----------+\n",
      "|2022-03-07|       3500|\n",
      "|2022-03-06|       3129|\n",
      "|2022-01-14|       2782|\n",
      "|2022-01-11|       2739|\n",
      "|2022-01-05|       2712|\n",
      "|2022-01-13|       2655|\n",
      "|2022-04-02|       2356|\n",
      "|2022-01-08|       2277|\n",
      "|2022-02-22|       2173|\n",
      "|2022-01-10|       2154|\n",
      "|2022-02-07|       2146|\n",
      "|2022-04-25|       2073|\n",
      "|2022-04-26|       2028|\n",
      "|2022-04-01|       2013|\n",
      "|2022-01-06|       1985|\n",
      "|2022-01-02|       1775|\n",
      "|2022-06-13|       1757|\n",
      "|2022-02-05|       1751|\n",
      "|2022-01-09|       1736|\n",
      "|2022-02-13|       1636|\n",
      "+----------+-----------+\n",
      "only showing top 20 rows\n",
      "\n"
     ]
    },
    {
     "name": "stderr",
     "output_type": "stream",
     "text": [
      "                                                                                \r"
     ]
    }
   ],
   "source": [
    "new_daily_active_total.orderBy(col('daily_users').desc()).show()"
   ]
  },
  {
   "cell_type": "code",
   "execution_count": 27,
   "id": "375545b5-11bc-4e6e-bdfc-5af9c81d19b5",
   "metadata": {
    "tags": []
   },
   "outputs": [
    {
     "name": "stderr",
     "output_type": "stream",
     "text": [
      "                                                                                \r"
     ]
    }
   ],
   "source": [
    "new_daily_pd = new_daily_active_total.toPandas()"
   ]
  },
  {
   "cell_type": "code",
   "execution_count": 147,
   "id": "0280f4f5-d377-4b53-af99-0c7db8f02a40",
   "metadata": {
    "tags": []
   },
   "outputs": [
    {
     "name": "stdout",
     "output_type": "stream",
     "text": [
      "Collecting scienceplots\n",
      "  Downloading SciencePlots-2.1.1-py3-none-any.whl.metadata (11 kB)\n",
      "Requirement already satisfied: matplotlib in /opt/conda/lib/python3.10/site-packages (from scienceplots) (3.5.2)\n",
      "Requirement already satisfied: cycler>=0.10 in /opt/conda/lib/python3.10/site-packages (from matplotlib->scienceplots) (0.11.0)\n",
      "Requirement already satisfied: fonttools>=4.22.0 in /opt/conda/lib/python3.10/site-packages (from matplotlib->scienceplots) (4.25.0)\n",
      "Requirement already satisfied: kiwisolver>=1.0.1 in /opt/conda/lib/python3.10/site-packages (from matplotlib->scienceplots) (1.4.2)\n",
      "Requirement already satisfied: numpy>=1.17 in /opt/conda/lib/python3.10/site-packages (from matplotlib->scienceplots) (1.26.2)\n",
      "Requirement already satisfied: packaging>=20.0 in /opt/conda/lib/python3.10/site-packages (from matplotlib->scienceplots) (21.3)\n",
      "Requirement already satisfied: pillow>=6.2.0 in /opt/conda/lib/python3.10/site-packages (from matplotlib->scienceplots) (10.1.0)\n",
      "Requirement already satisfied: pyparsing>=2.2.1 in /opt/conda/lib/python3.10/site-packages (from matplotlib->scienceplots) (3.0.9)\n",
      "Requirement already satisfied: python-dateutil>=2.7 in /opt/conda/lib/python3.10/site-packages (from matplotlib->scienceplots) (2.8.2)\n",
      "Requirement already satisfied: six>=1.5 in /opt/conda/lib/python3.10/site-packages (from python-dateutil>=2.7->matplotlib->scienceplots) (1.16.0)\n",
      "Downloading SciencePlots-2.1.1-py3-none-any.whl (16 kB)\n",
      "Installing collected packages: scienceplots\n",
      "Successfully installed scienceplots-2.1.1\n",
      "\u001b[33mWARNING: Running pip as the 'root' user can result in broken permissions and conflicting behaviour with the system package manager. It is recommended to use a virtual environment instead: https://pip.pypa.io/warnings/venv\u001b[0m\u001b[33m\n",
      "\u001b[0m\n",
      "\u001b[1m[\u001b[0m\u001b[34;49mnotice\u001b[0m\u001b[1;39;49m]\u001b[0m\u001b[39;49m A new release of pip is available: \u001b[0m\u001b[31;49m23.3.1\u001b[0m\u001b[39;49m -> \u001b[0m\u001b[32;49m24.0\u001b[0m\n",
      "\u001b[1m[\u001b[0m\u001b[34;49mnotice\u001b[0m\u001b[1;39;49m]\u001b[0m\u001b[39;49m To update, run: \u001b[0m\u001b[32;49mpip install --upgrade pip\u001b[0m\n"
     ]
    }
   ],
   "source": [
    "!pip install scienceplots"
   ]
  },
  {
   "cell_type": "code",
   "execution_count": 29,
   "id": "80f950ce-aff0-41fb-bc62-a2673571671b",
   "metadata": {
    "tags": []
   },
   "outputs": [
    {
     "name": "stderr",
     "output_type": "stream",
     "text": [
      "                                                                                \r"
     ]
    }
   ],
   "source": [
    "new_monthly_pd = new_monthly_active_total.toPandas()"
   ]
  },
  {
   "cell_type": "code",
   "execution_count": 159,
   "id": "1c74d152-8250-47be-9265-893027fdc955",
   "metadata": {
    "tags": []
   },
   "outputs": [
    {
     "data": {
      "text/plain": [
       "<Figure size 1400x700 with 0 Axes>"
      ]
     },
     "metadata": {},
     "output_type": "display_data"
    },
    {
     "data": {
      "image/png": "[encoded data removed]",
      "text/plain": [
       "<Figure size 1000x600 with 1 Axes>"
      ]
     },
     "metadata": {},
     "output_type": "display_data"
    }
   ],
   "source": [
    "import pandas as pd\n",
    "with plt.style.context(['science', 'high-vis']):\n",
    "    # Configure plot settings\n",
    "    plt.figure(figsize=(14, 7))\n",
    "    plt.rcParams['axes.labelsize'] = 18\n",
    "    plt.rcParams['axes.titlesize'] = 20\n",
    "    plt.rcParams['xtick.labelsize'] = 14\n",
    "    plt.rcParams['ytick.labelsize'] = 14\n",
    "    plt.rcParams['legend.title_fontsize'] = 18\n",
    "    plt.rcParams['legend.fontsize'] = 16\n",
    "    plt.rcParams.update({\n",
    "        \"text.usetex\": False,\n",
    "        \"font.family\": \"sans-serif\"\n",
    "    })\n",
    "    plt.rcParams['font.family'] = 'sans-serif'\n",
    "    plt.rcParams['font.size'] = 12\n",
    "    plt.rcParams['font.weight'] = 'normal'\n",
    "\n",
    "\n",
    "\n",
    "new_monthly_pd['year_month'] = new_monthly_pd[\"year\"].astype(str) + \"-\" + new_monthly_pd[\"month\"].astype(str)\n",
    "\n",
    "new_monthly_pd = new_monthly_pd.sort_values(by=['year', \"month\"])\n",
    "\n",
    "\n",
    "plt.figure(figsize=(10, 6))\n",
    "plt.bar(new_monthly_pd['year_month'], new_monthly_pd['monthly_users'])\n",
    "plt.title('Monthly Active Users')\n",
    "plt.xlabel('Year-Month')\n",
    "plt.ylabel('Monthly Users')\n",
    "\n",
    "plt.tight_layout()\n",
    "plt.savefig('../../website-source/plots/EDA/Q2/2_2.png')\n",
    "plt.show()"
   ]
  },
  {
   "cell_type": "code",
   "execution_count": 154,
   "id": "f20a78d4-b3f1-43a7-8b3f-12a2f7f48a61",
   "metadata": {
    "tags": []
   },
   "outputs": [
    {
     "data": {
      "text/plain": [
       "<Figure size 1400x700 with 0 Axes>"
      ]
     },
     "metadata": {},
     "output_type": "display_data"
    },
    {
     "data": {
      "image/png": "[encoded data removed]",
      "text/plain": [
       "<Figure size 1000x600 with 1 Axes>"
      ]
     },
     "metadata": {},
     "output_type": "display_data"
    }
   ],
   "source": [
    "# Plot for number of days users are active\n",
    "\n",
    "with plt.style.context(['science', 'high-vis']):\n",
    "    # Configure plot settings\n",
    "    plt.figure(figsize=(14, 7))\n",
    "    plt.rcParams['axes.labelsize'] = 18\n",
    "    plt.rcParams['axes.titlesize'] = 20\n",
    "    plt.rcParams['xtick.labelsize'] = 14\n",
    "    plt.rcParams['ytick.labelsize'] = 14\n",
    "    plt.rcParams['legend.title_fontsize'] = 18\n",
    "    plt.rcParams['legend.fontsize'] = 16\n",
    "    plt.rcParams.update({\n",
    "        \"text.usetex\": False,\n",
    "        \"font.family\": \"sans-serif\"\n",
    "    })\n",
    "    plt.rcParams['font.family'] = 'sans-serif'\n",
    "    plt.rcParams['font.size'] = 12\n",
    "    plt.rcParams['font.weight'] = 'normal'\n",
    "\n",
    "\n",
    "\n",
    "# Plotting a histogram of 'daily number of users'\n",
    "plt.figure(figsize=(10, 6))\n",
    "plt.hist(new_daily_pd['daily_users'], bins=30, color='tab:blue')\n",
    "plt.title('User Activity Distribution')\n",
    "plt.xlabel('Number of Users')\n",
    "plt.ylabel('Number of Days')\n",
    "#plt.grid(axis='y', alpha=0.75)\n",
    "plt.show()"
   ]
  },
  {
   "cell_type": "markdown",
   "id": "153b786b-50f6-45df-aa0a-52b87fa48d99",
   "metadata": {},
   "source": [
    "Table of User activity"
   ]
  },
  {
   "cell_type": "code",
   "execution_count": 32,
   "id": "d6fd2d90-78b0-4db7-a03d-552554d8c518",
   "metadata": {
    "tags": []
   },
   "outputs": [],
   "source": [
    "user_activity = new_daily.withColumn(\"total_activities\", f.col(\"num_posts\") + f.col(\"num_comments\"))"
   ]
  },
  {
   "cell_type": "code",
   "execution_count": 33,
   "id": "bde09d95-5370-46b8-9a89-1bc55cbe53e3",
   "metadata": {
    "tags": []
   },
   "outputs": [
    {
     "name": "stderr",
     "output_type": "stream",
     "text": [
      "[Stage 153:>                                                        (0 + 1) / 1]\r"
     ]
    },
    {
     "name": "stdout",
     "output_type": "stream",
     "text": [
      "+----+-----+---+----------+-----------------+---------+------------+----------------+\n",
      "|year|month|day|     udate|          uauthor|num_posts|num_comments|total_activities|\n",
      "+----+-----+---+----------+-----------------+---------+------------+----------------+\n",
      "|2022|    1|  1|2022-01-01|     BokChoySlaps|        1|           0|               1|\n",
      "|2022|    1|  1|2022-01-01|dontlookformehere|        0|           1|               1|\n",
      "|2022|    1|  1|2022-01-01|           Mau120|        0|           1|               1|\n",
      "|2022|    1|  1|2022-01-01|   purpledream999|        0|           1|               1|\n",
      "|2022|    1|  1|2022-01-01|     Real-Toe2749|        0|           1|               1|\n",
      "+----+-----+---+----------+-----------------+---------+------------+----------------+\n",
      "only showing top 5 rows\n",
      "\n"
     ]
    },
    {
     "name": "stderr",
     "output_type": "stream",
     "text": [
      "                                                                                \r"
     ]
    }
   ],
   "source": [
    "user_activity.show(5)"
   ]
  },
  {
   "cell_type": "code",
   "execution_count": 34,
   "id": "27099bba-e0a1-4b85-b493-df046aac3184",
   "metadata": {
    "tags": []
   },
   "outputs": [],
   "source": [
    "# Based on the number of posts and comments by each user\n",
    "\n",
    "top_authors = user_activity.groupBy(\"uauthor\")\\\n",
    "                .agg(f.sum(\"total_activities\").alias(\"sum_total_activities\"))\\\n",
    "                .orderBy(f.col(\"sum_total_activities\").desc())"
   ]
  },
  {
   "cell_type": "code",
   "execution_count": 35,
   "id": "0492b22e-a473-46b1-9436-69bb1eafa6a6",
   "metadata": {
    "tags": []
   },
   "outputs": [
    {
     "name": "stderr",
     "output_type": "stream",
     "text": [
      "[Stage 161:============================>                            (1 + 1) / 2]\r"
     ]
    },
    {
     "name": "stdout",
     "output_type": "stream",
     "text": [
      "+-------------------+--------------------+\n",
      "|            uauthor|sum_total_activities|\n",
      "+-------------------+--------------------+\n",
      "|          [deleted]|              183919|\n",
      "|          liquid_at|                8586|\n",
      "|           Fulvio55|                4386|\n",
      "|          sodogetip|                4000|\n",
      "|    RepostSleuthBot|                2083|\n",
      "|freebanbot_squirrel|                2067|\n",
      "|      AutoModerator|                1983|\n",
      "|  freebanbot_spider|                1907|\n",
      "|        KingCoin187|                1748|\n",
      "|    masterbatesAlot|                1643|\n",
      "+-------------------+--------------------+\n",
      "only showing top 10 rows\n",
      "\n"
     ]
    },
    {
     "name": "stderr",
     "output_type": "stream",
     "text": [
      "                                                                                \r"
     ]
    }
   ],
   "source": [
    "top_authors.show(10)"
   ]
  },
  {
   "cell_type": "code",
   "execution_count": 36,
   "id": "3c9a546e-9af0-497a-be5f-d0eb0978bfb2",
   "metadata": {
    "tags": []
   },
   "outputs": [
    {
     "name": "stderr",
     "output_type": "stream",
     "text": [
      "                                                                                \r"
     ]
    }
   ],
   "source": [
    "total_activities_sum = top_authors.agg(f.sum(\"sum_total_activities\").alias(\"total\")).collect()[0][\"total\"]"
   ]
  },
  {
   "cell_type": "code",
   "execution_count": 37,
   "id": "02e7a333-6e6b-4e68-9e4f-335890260576",
   "metadata": {
    "tags": []
   },
   "outputs": [
    {
     "name": "stderr",
     "output_type": "stream",
     "text": [
      "[Stage 193:>                                                        (0 + 2) / 2]\r"
     ]
    },
    {
     "name": "stdout",
     "output_type": "stream",
     "text": [
      "+-------------------+--------------------+------------------------------+\n",
      "|            uauthor|sum_total_activities|percentage_of_total_activities|\n",
      "+-------------------+--------------------+------------------------------+\n",
      "|          [deleted]|              183919|            29.690597495851172|\n",
      "|          liquid_at|                8586|            1.3860638112396118|\n",
      "|           Fulvio55|                4386|            0.7080451754131071|\n",
      "|          sodogetip|                4000|            0.6457320341204806|\n",
      "|    RepostSleuthBot|                2083|            0.3362649567682403|\n",
      "|freebanbot_squirrel|                2067|            0.3336820286317584|\n",
      "|      AutoModerator|                1983|            0.3201216559152283|\n",
      "|  freebanbot_spider|                1907|            0.3078527472669392|\n",
      "|        KingCoin187|                1748|            0.2821848989106501|\n",
      "|    masterbatesAlot|                1643|           0.26523443301498745|\n",
      "|        Dogekaliber|                1630|           0.26313580390409586|\n",
      "| Agitated_Bend_5441|                1509|            0.2436024098719513|\n",
      "|      MrDogeMeister|                1468|            0.2369836565222164|\n",
      "|    freebanbot_lion|                1386|           0.22374614982274654|\n",
      "|       Mananimalism|                1240|           0.20017693057734903|\n",
      "|       Noahscope001|                1176|           0.18984521803142132|\n",
      "|       furryaltowo1|                1163|           0.18774658892052976|\n",
      "|          Jimbo4901|                1111|           0.17935207247696353|\n",
      "|          rizzo49er|                1006|            0.1624016065813009|\n",
      "|         Shellilala|                1006|            0.1624016065813009|\n",
      "+-------------------+--------------------+------------------------------+\n",
      "only showing top 20 rows\n",
      "\n"
     ]
    },
    {
     "name": "stderr",
     "output_type": "stream",
     "text": [
      "                                                                                \r"
     ]
    }
   ],
   "source": [
    "top_authors_with_percentage = top_authors.withColumn(\n",
    "    \"percentage_of_total_activities\",\n",
    "    (f.col(\"sum_total_activities\") / total_activities_sum) * 100\n",
    ")\n",
    "\n",
    "# Show the result\n",
    "top_authors_with_percentage.show()"
   ]
  },
  {
   "cell_type": "code",
   "execution_count": 120,
   "id": "01c08b71-e354-478f-a3cc-095844b8ca0f",
   "metadata": {
    "tags": []
   },
   "outputs": [
    {
     "name": "stderr",
     "output_type": "stream",
     "text": [
      "                                                                                \r"
     ]
    },
    {
     "data": {
      "text/plain": [
       "87743"
      ]
     },
     "execution_count": 120,
     "metadata": {},
     "output_type": "execute_result"
    }
   ],
   "source": [
    "top_authors_with_percentage.count()"
   ]
  },
  {
   "cell_type": "code",
   "execution_count": 39,
   "id": "71409861-baae-45e6-9c9f-5342018f77e7",
   "metadata": {
    "tags": []
   },
   "outputs": [
    {
     "name": "stderr",
     "output_type": "stream",
     "text": [
      "[Stage 199:>                                                        (0 + 2) / 2]\r"
     ]
    },
    {
     "name": "stdout",
     "output_type": "stream",
     "text": [
      "+-----------------+-----+\n",
      "|           author|posts|\n",
      "+-----------------+-----+\n",
      "|        [deleted]| 7983|\n",
      "|        rizzo49er|  492|\n",
      "|         42points|  279|\n",
      "|  SeaScarcity2110|  277|\n",
      "|   TheDogeAcademy|  270|\n",
      "|  Bluesmantexas89|  208|\n",
      "|   Full_Moon_LoBo|  203|\n",
      "|        Yellomelw|  191|\n",
      "|     Mananimalism|  166|\n",
      "|HumanbyNature1717|  157|\n",
      "+-----------------+-----+\n",
      "only showing top 10 rows\n",
      "\n"
     ]
    },
    {
     "name": "stderr",
     "output_type": "stream",
     "text": [
      "                                                                                \r"
     ]
    }
   ],
   "source": [
    "# users with the most number of posts\n",
    "merged.groupBy('author').agg(f.countDistinct(\"id\").alias(\"posts\")).orderBy(col(\"posts\").desc()).show(10)"
   ]
  },
  {
   "cell_type": "code",
   "execution_count": 40,
   "id": "ca3fa162-a7e9-47b5-9b97-a250a5903b13",
   "metadata": {
    "tags": []
   },
   "outputs": [
    {
     "name": "stderr",
     "output_type": "stream",
     "text": [
      "[Stage 205:============================>                            (1 + 1) / 2]\r"
     ]
    },
    {
     "name": "stdout",
     "output_type": "stream",
     "text": [
      "+--------------+---------------+-----+\n",
      "|     subreddit|         author|posts|\n",
      "+--------------+---------------+-----+\n",
      "|      dogecoin|      [deleted]| 7582|\n",
      "|      dogecoin|      rizzo49er|  492|\n",
      "|CryptoCurrency|      [deleted]|  401|\n",
      "|      dogecoin|       42points|  279|\n",
      "|      dogecoin|SeaScarcity2110|  277|\n",
      "|      dogecoin| TheDogeAcademy|  270|\n",
      "|      dogecoin|Bluesmantexas89|  208|\n",
      "|      dogecoin| Full_Moon_LoBo|  203|\n",
      "|      dogecoin|      Yellomelw|  190|\n",
      "|      dogecoin|   Mananimalism|  166|\n",
      "+--------------+---------------+-----+\n",
      "only showing top 10 rows\n",
      "\n"
     ]
    },
    {
     "name": "stderr",
     "output_type": "stream",
     "text": [
      "                                                                                \r"
     ]
    }
   ],
   "source": [
    "# users with the most number of posts agg by subreddit\n",
    "merged.groupBy('subreddit', 'author').agg(f.countDistinct(\"id\").alias(\"posts\")).orderBy(col(\"posts\").desc()).show(10)"
   ]
  },
  {
   "cell_type": "code",
   "execution_count": 41,
   "id": "638d39a8-76ff-4c5e-80e4-d039903e091d",
   "metadata": {
    "tags": []
   },
   "outputs": [
    {
     "name": "stderr",
     "output_type": "stream",
     "text": [
      "[Stage 211:============================>                            (1 + 1) / 2]\r"
     ]
    },
    {
     "name": "stdout",
     "output_type": "stream",
     "text": [
      "+-------------------+--------+\n",
      "|         com_author|comments|\n",
      "+-------------------+--------+\n",
      "|          [deleted]|  175936|\n",
      "|               null|   15893|\n",
      "|          liquid_at|    8584|\n",
      "|           Fulvio55|    4366|\n",
      "|          sodogetip|    4000|\n",
      "|    RepostSleuthBot|    2083|\n",
      "|freebanbot_squirrel|    2067|\n",
      "|      AutoModerator|    1983|\n",
      "|  freebanbot_spider|    1907|\n",
      "|    masterbatesAlot|    1626|\n",
      "+-------------------+--------+\n",
      "only showing top 10 rows\n",
      "\n"
     ]
    },
    {
     "name": "stderr",
     "output_type": "stream",
     "text": [
      "                                                                                \r"
     ]
    }
   ],
   "source": [
    "# users with the most number of comments\n",
    "merged.groupBy('com_author').agg(f.count(\"*\").alias(\"comments\")).orderBy(col(\"comments\").desc()).show(10)"
   ]
  },
  {
   "cell_type": "code",
   "execution_count": 42,
   "id": "4847f1e9-ce55-4ced-8c7a-8e5234e575ea",
   "metadata": {
    "tags": []
   },
   "outputs": [
    {
     "name": "stderr",
     "output_type": "stream",
     "text": [
      "[Stage 214:============================>                            (1 + 1) / 2]\r"
     ]
    },
    {
     "name": "stdout",
     "output_type": "stream",
     "text": [
      "+--------------+---------------+--------+\n",
      "| com_subreddit|     com_author|comments|\n",
      "+--------------+---------------+--------+\n",
      "|      dogecoin|      [deleted]|  158109|\n",
      "|CryptoCurrency|      [deleted]|   17827|\n",
      "|          null|           null|   15893|\n",
      "|      dogecoin|      liquid_at|    8454|\n",
      "|      dogecoin|       Fulvio55|    4356|\n",
      "|      dogecoin|      sodogetip|    4000|\n",
      "|      dogecoin|RepostSleuthBot|    2083|\n",
      "|      dogecoin|masterbatesAlot|    1598|\n",
      "|      dogecoin|    KingCoin187|    1592|\n",
      "|      dogecoin|    Dogekaliber|    1535|\n",
      "+--------------+---------------+--------+\n",
      "only showing top 10 rows\n",
      "\n"
     ]
    },
    {
     "name": "stderr",
     "output_type": "stream",
     "text": [
      "                                                                                \r"
     ]
    }
   ],
   "source": [
    "# users with the most number of comments agg by subreddit\n",
    "merged.groupBy('com_subreddit', 'com_author').agg(f.count(\"*\").alias(\"comments\")).orderBy(col(\"comments\").desc()).show(10)"
   ]
  },
  {
   "cell_type": "markdown",
   "id": "ef2e8287-615c-458b-b296-203c3e4b6e0e",
   "metadata": {},
   "source": [
    "## By total scores\n"
   ]
  },
  {
   "cell_type": "code",
   "execution_count": 43,
   "id": "40d65f32-84ec-4a2c-bd8e-a388f2c7468c",
   "metadata": {
    "tags": []
   },
   "outputs": [],
   "source": [
    "posts = merged.select('subreddit', 'id', 'created_utc', 'author', 'is_self', 'num_comments', 'score', 'selftext', 'title' )"
   ]
  },
  {
   "cell_type": "code",
   "execution_count": 44,
   "id": "17aa16be-634c-4ac1-b306-46f9759d0c11",
   "metadata": {
    "tags": []
   },
   "outputs": [
    {
     "name": "stderr",
     "output_type": "stream",
     "text": [
      "                                                                                \r"
     ]
    },
    {
     "data": {
      "text/plain": [
       "587972"
      ]
     },
     "execution_count": 44,
     "metadata": {},
     "output_type": "execute_result"
    }
   ],
   "source": [
    "posts.count()"
   ]
  },
  {
   "cell_type": "code",
   "execution_count": 45,
   "id": "5b2b3cfc-616a-4b65-ad82-ba78d57d75d9",
   "metadata": {
    "tags": []
   },
   "outputs": [
    {
     "name": "stderr",
     "output_type": "stream",
     "text": [
      "                                                                                \r"
     ]
    },
    {
     "data": {
      "text/plain": [
       "47373"
      ]
     },
     "execution_count": 45,
     "metadata": {},
     "output_type": "execute_result"
    }
   ],
   "source": [
    "posts.distinct().count()"
   ]
  },
  {
   "cell_type": "code",
   "execution_count": 46,
   "id": "9ff34455-397f-43c6-9ffd-4bb8735c78d9",
   "metadata": {
    "tags": []
   },
   "outputs": [],
   "source": [
    "posts_only = posts.distinct()"
   ]
  },
  {
   "cell_type": "code",
   "execution_count": 47,
   "id": "64f84758-d662-403a-9dc1-25d65a7ba7f9",
   "metadata": {
    "tags": []
   },
   "outputs": [],
   "source": [
    "posts_only_grp = posts_only.groupBy('subreddit','author').agg(f.sum('num_comments').alias('comments'),\\\n",
    "                                             f.sum('score').alias('total_score'))\\\n",
    ".orderBy(f.col(\"total_score\").desc())"
   ]
  },
  {
   "cell_type": "markdown",
   "id": "090d8ea8-c40a-46d0-b9f1-35dc2e0ac011",
   "metadata": {
    "tags": []
   },
   "source": [
    "### To check correltions between number of comments and the score"
   ]
  },
  {
   "cell_type": "code",
   "execution_count": 58,
   "id": "1d1e94db-d8d7-407c-88d0-6c46486e66cc",
   "metadata": {
    "tags": []
   },
   "outputs": [],
   "source": [
    "posts_only_corr = posts_only.select('subreddit', 'id', 'created_utc', 'num_comments', 'score') "
   ]
  },
  {
   "cell_type": "code",
   "execution_count": 60,
   "id": "2681f29d-949c-4b81-89d8-9653ab2ec7fb",
   "metadata": {
    "tags": []
   },
   "outputs": [
    {
     "name": "stderr",
     "output_type": "stream",
     "text": [
      "[Stage 208:============================>                            (1 + 1) / 2]\r"
     ]
    },
    {
     "name": "stdout",
     "output_type": "stream",
     "text": [
      "+--------------+-------+-----------+------------+-----+\n",
      "|     subreddit|     id|created_utc|num_comments|score|\n",
      "+--------------+-------+-----------+------------+-----+\n",
      "|      dogecoin|106x3lz| 1673218577|         233|17125|\n",
      "|      dogecoin| t0l4w4| 1645736067|         294| 7330|\n",
      "|      dogecoin| rv0sry| 1641213441|         328| 7197|\n",
      "|CryptoCurrency| sydqg4| 1645502336|        1660| 6937|\n",
      "|      dogecoin| sqnk8x| 1644657384|         505| 6150|\n",
      "+--------------+-------+-----------+------------+-----+\n",
      "only showing top 5 rows\n",
      "\n"
     ]
    },
    {
     "name": "stderr",
     "output_type": "stream",
     "text": [
      "                                                                                \r"
     ]
    }
   ],
   "source": [
    "posts_only_corr.orderBy(f.col(\"score\").desc()).show(5)"
   ]
  },
  {
   "cell_type": "code",
   "execution_count": 62,
   "id": "3152e107-7e8a-4c6e-8ed5-47a80181852d",
   "metadata": {
    "tags": []
   },
   "outputs": [],
   "source": [
    "# 11226 - max comments, 17125 - max score"
   ]
  },
  {
   "cell_type": "code",
   "execution_count": 54,
   "id": "784c020e-509a-4959-98d5-a33654192e54",
   "metadata": {
    "tags": []
   },
   "outputs": [
    {
     "name": "stderr",
     "output_type": "stream",
     "text": [
      "                                                                                \r"
     ]
    },
    {
     "data": {
      "text/plain": [
       "0.42484943919930135"
      ]
     },
     "execution_count": 54,
     "metadata": {},
     "output_type": "execute_result"
    }
   ],
   "source": [
    "posts_only_corr.filter(posts_only_corr.subreddit == 'dogecoin').stat.corr(\"num_comments\", \"score\")"
   ]
  },
  {
   "cell_type": "code",
   "execution_count": 55,
   "id": "1d8da1d3-b532-4289-8f71-aef6534a8b5b",
   "metadata": {
    "tags": []
   },
   "outputs": [
    {
     "name": "stderr",
     "output_type": "stream",
     "text": [
      "                                                                                \r"
     ]
    },
    {
     "data": {
      "text/plain": [
       "0.4303048905457407"
      ]
     },
     "execution_count": 55,
     "metadata": {},
     "output_type": "execute_result"
    }
   ],
   "source": [
    "posts_only_corr.filter(posts_only_corr.subreddit == 'CryptoCurrency').stat.corr(\"num_comments\", \"score\")"
   ]
  },
  {
   "cell_type": "code",
   "execution_count": 56,
   "id": "2f660bd9-3f42-4cd5-93d7-6959328483b0",
   "metadata": {
    "tags": []
   },
   "outputs": [
    {
     "name": "stderr",
     "output_type": "stream",
     "text": [
      "                                                                                \r"
     ]
    }
   ],
   "source": [
    "posts_only_corr_pd = posts_only_corr.toPandas()"
   ]
  },
  {
   "cell_type": "code",
   "execution_count": 68,
   "id": "9b4a9a46-e915-414a-976f-54c3275feea9",
   "metadata": {
    "tags": []
   },
   "outputs": [
    {
     "data": {
      "image/png": "[encoded data removed]",
      "text/plain": [
       "<Figure size 1200x800 with 1 Axes>"
      ]
     },
     "metadata": {},
     "output_type": "display_data"
    }
   ],
   "source": [
    "import matplotlib.pyplot as plt\n",
    "import numpy as np\n",
    "\n",
    "\n",
    "subreddits = ['CryptoCurrency', 'dogecoin']\n",
    "\n",
    "\n",
    "# Plot scatter plots for each subreddit\n",
    "plt.figure(figsize=(12, 8))\n",
    "\n",
    "for subreddit in subreddits:\n",
    "    subset = posts_only_corr_pd[posts_only_corr_pd['subreddit'] == subreddit]\n",
    "    \n",
    "    # Calculate the line of best fit\n",
    "    slope, intercept = np.polyfit(subset['num_comments'], subset['score'], 1)\n",
    "    x_vals = np.array([subset['num_comments'].min(), subset['num_comments'].max()])\n",
    "    y_vals = intercept + slope * x_vals\n",
    "    \n",
    "    # Scatter plot for the subreddit\n",
    "    plt.scatter(subset['num_comments'], subset['score'], alpha=0.25, label=subreddit)\n",
    "    #plt.plot(x_vals, y_vals, label=f\"Best Fit: {subreddit}\")\n",
    "    \n",
    "plt.title('Correlation between Number of Comments and Post Scores by Subreddit')\n",
    "plt.xlabel('Number of Comments')\n",
    "plt.ylabel('Post Score')\n",
    "plt.legend()\n",
    "plt.grid(True)\n",
    "plt.show()\n"
   ]
  },
  {
   "cell_type": "code",
   "execution_count": 48,
   "id": "cea4aa39-ff0f-49e2-a7a5-9eaf82403c53",
   "metadata": {
    "tags": []
   },
   "outputs": [],
   "source": [
    "comments = merged.select('com_subreddit', 'com_id', 'com_created_utc', 'com_author', 'com_link_id', \\\n",
    "                         'com_score', 'com_body', 'com_submis_id')"
   ]
  },
  {
   "cell_type": "code",
   "execution_count": 49,
   "id": "0fa21b2b-b13d-45cc-b025-9ec3fa1c72ef",
   "metadata": {
    "tags": []
   },
   "outputs": [],
   "source": [
    "comments_only = comments.distinct()"
   ]
  },
  {
   "cell_type": "code",
   "execution_count": 50,
   "id": "c1f30681-e7de-44a2-9ab8-849d156ccf42",
   "metadata": {
    "tags": []
   },
   "outputs": [],
   "source": [
    "comments_only_grp = comments_only.groupBy('com_subreddit','com_author').agg(f.sum('com_score').alias('total_score'))\\\n",
    ".orderBy(f.col(\"total_score\").desc())"
   ]
  },
  {
   "cell_type": "code",
   "execution_count": 51,
   "id": "9f1b607f-3857-4c7b-b347-7d6d3e556691",
   "metadata": {
    "tags": []
   },
   "outputs": [
    {
     "name": "stderr",
     "output_type": "stream",
     "text": [
      "                                                                                \r"
     ]
    },
    {
     "data": {
      "text/plain": [
       "82125"
      ]
     },
     "execution_count": 51,
     "metadata": {},
     "output_type": "execute_result"
    }
   ],
   "source": [
    "comments_only_grp.count()"
   ]
  },
  {
   "cell_type": "markdown",
   "id": "748ea46f-6717-48fe-be5e-15cbe4949eb1",
   "metadata": {},
   "source": [
    "## Are there common users in both subreddits"
   ]
  },
  {
   "cell_type": "code",
   "execution_count": 5,
   "id": "285021eb-0eae-4a09-8bdb-5c103856eab9",
   "metadata": {
    "tags": []
   },
   "outputs": [
    {
     "name": "stdout",
     "output_type": "stream",
     "text": [
      "root\n",
      " |-- subreddit: string (nullable = true)\n",
      " |-- subreddit_id: string (nullable = true)\n",
      " |-- id: string (nullable = true)\n",
      " |-- created_utc: long (nullable = true)\n",
      " |-- author: string (nullable = true)\n",
      " |-- is_self: boolean (nullable = true)\n",
      " |-- num_comments: long (nullable = true)\n",
      " |-- score: long (nullable = true)\n",
      " |-- selftext: string (nullable = true)\n",
      " |-- title: string (nullable = true)\n",
      " |-- com_subreddit: string (nullable = true)\n",
      " |-- com_subreddit_id: string (nullable = true)\n",
      " |-- com_id: string (nullable = true)\n",
      " |-- com_created_utc: long (nullable = true)\n",
      " |-- com_author: string (nullable = true)\n",
      " |-- com_link_id: string (nullable = true)\n",
      " |-- com_score: long (nullable = true)\n",
      " |-- com_body: string (nullable = true)\n",
      " |-- com_submis_id: string (nullable = true)\n",
      "\n"
     ]
    }
   ],
   "source": [
    "merged.printSchema()"
   ]
  },
  {
   "cell_type": "code",
   "execution_count": 52,
   "id": "7d644e5e-83e2-42dd-aacf-58c8832a007f",
   "metadata": {
    "tags": []
   },
   "outputs": [],
   "source": [
    "distinct_posters = merged.select('subreddit', 'author').distinct()"
   ]
  },
  {
   "cell_type": "code",
   "execution_count": 53,
   "id": "8656b1de-e1d7-4b45-acdc-46103f5c2149",
   "metadata": {
    "tags": []
   },
   "outputs": [
    {
     "name": "stderr",
     "output_type": "stream",
     "text": [
      "[Stage 236:>                                                        (0 + 2) / 2]\r"
     ]
    },
    {
     "name": "stdout",
     "output_type": "stream",
     "text": [
      "+--------------+------+\n",
      "|     subreddit|counts|\n",
      "+--------------+------+\n",
      "|CryptoCurrency|  1160|\n",
      "|      dogecoin| 14601|\n",
      "+--------------+------+\n",
      "\n"
     ]
    },
    {
     "name": "stderr",
     "output_type": "stream",
     "text": [
      "                                                                                \r"
     ]
    }
   ],
   "source": [
    "distinct_posters.groupBy('subreddit').agg(f.count(\"*\").alias(\"counts\")).show()"
   ]
  },
  {
   "cell_type": "code",
   "execution_count": 57,
   "id": "1fd7f9d8-8350-4555-b021-52d7e0ccd59b",
   "metadata": {
    "tags": []
   },
   "outputs": [],
   "source": [
    "distinct_commenters = merged.select('com_subreddit', 'com_author').withColumnRenamed(\"com_subreddit\", \"subreddit\")\\\n",
    ".withColumnRenamed(\"com_author\", \"author\")\\\n",
    ".distinct().filter(col('subreddit').isNotNull())"
   ]
  },
  {
   "cell_type": "code",
   "execution_count": 58,
   "id": "1b08b939-8a38-429f-a750-3fab9589c6fc",
   "metadata": {
    "tags": []
   },
   "outputs": [
    {
     "name": "stderr",
     "output_type": "stream",
     "text": [
      "[Stage 248:============================>                            (1 + 1) / 2]\r"
     ]
    },
    {
     "name": "stdout",
     "output_type": "stream",
     "text": [
      "+--------------+------+\n",
      "|     subreddit|counts|\n",
      "+--------------+------+\n",
      "|CryptoCurrency| 25261|\n",
      "|      dogecoin| 56863|\n",
      "+--------------+------+\n",
      "\n"
     ]
    },
    {
     "name": "stderr",
     "output_type": "stream",
     "text": [
      "                                                                                \r"
     ]
    }
   ],
   "source": [
    "distinct_commenters.groupBy('subreddit').agg(f.count(\"*\").alias(\"counts\")).show()"
   ]
  },
  {
   "cell_type": "code",
   "execution_count": 59,
   "id": "dd8e580c-c57a-4233-8d76-c1947158a115",
   "metadata": {
    "tags": []
   },
   "outputs": [],
   "source": [
    "appended_df = distinct_posters.unionByName(distinct_commenters)"
   ]
  },
  {
   "cell_type": "code",
   "execution_count": 60,
   "id": "865f8052-8eda-4118-b4a7-c21cdcaec406",
   "metadata": {
    "tags": []
   },
   "outputs": [
    {
     "name": "stderr",
     "output_type": "stream",
     "text": [
      "                                                                                \r"
     ]
    },
    {
     "data": {
      "text/plain": [
       "97885"
      ]
     },
     "execution_count": 60,
     "metadata": {},
     "output_type": "execute_result"
    }
   ],
   "source": [
    "appended_df.count()"
   ]
  },
  {
   "cell_type": "code",
   "execution_count": 61,
   "id": "94a3be35-e370-4c93-988f-70227a418228",
   "metadata": {
    "tags": []
   },
   "outputs": [],
   "source": [
    "from pyspark.sql.functions import col\n",
    "appended_df = appended_df.filter(col(\"subreddit\").isNotNull()).distinct()"
   ]
  },
  {
   "cell_type": "code",
   "execution_count": 62,
   "id": "adca11da-a8d1-4d71-91a9-fe0eacd2e6cc",
   "metadata": {
    "tags": []
   },
   "outputs": [
    {
     "name": "stderr",
     "output_type": "stream",
     "text": [
      "[Stage 267:======================================>                  (2 + 1) / 3]\r"
     ]
    },
    {
     "name": "stdout",
     "output_type": "stream",
     "text": [
      "+--------------+------+\n",
      "|     subreddit|counts|\n",
      "+--------------+------+\n",
      "|CryptoCurrency| 25789|\n",
      "|      dogecoin| 64736|\n",
      "+--------------+------+\n",
      "\n"
     ]
    },
    {
     "name": "stderr",
     "output_type": "stream",
     "text": [
      "                                                                                \r"
     ]
    }
   ],
   "source": [
    "appended_df.groupBy('subreddit').agg(f.count(\"*\").alias(\"counts\")).show()"
   ]
  },
  {
   "cell_type": "code",
   "execution_count": 63,
   "id": "26eae17d-eb8c-4d76-98b4-5817cd151db4",
   "metadata": {
    "tags": []
   },
   "outputs": [
    {
     "name": "stderr",
     "output_type": "stream",
     "text": [
      "[Stage 281:======================================>                  (2 + 1) / 3]\r"
     ]
    },
    {
     "name": "stdout",
     "output_type": "stream",
     "text": [
      "+--------------+\n",
      "|unique_authors|\n",
      "+--------------+\n",
      "|         87743|\n",
      "+--------------+\n",
      "\n"
     ]
    },
    {
     "name": "stderr",
     "output_type": "stream",
     "text": [
      "                                                                                \r"
     ]
    }
   ],
   "source": [
    "from pyspark.sql.functions import countDistinct\n",
    "appended_df.agg(countDistinct(\"author\").alias(\"unique_authors\")).show()"
   ]
  },
  {
   "cell_type": "code",
   "execution_count": 64,
   "id": "1aba4e53-fa4d-4f11-8aeb-8cf99cd9e37b",
   "metadata": {
    "tags": []
   },
   "outputs": [
    {
     "name": "stdout",
     "output_type": "stream",
     "text": [
      "There are 2782 common users between the two subreddits\n"
     ]
    }
   ],
   "source": [
    "print(f\"There are {(64736+25789)-87743} common users between the two subreddits\")"
   ]
  },
  {
   "cell_type": "markdown",
   "id": "d31dabf4-7cf6-4fa0-9481-5e3423d51fc9",
   "metadata": {},
   "source": [
    "# Posts and comments by time of day"
   ]
  },
  {
   "cell_type": "code",
   "execution_count": 65,
   "id": "d2c90609-5905-441e-8d08-11464de1e57d",
   "metadata": {
    "tags": []
   },
   "outputs": [
    {
     "name": "stderr",
     "output_type": "stream",
     "text": [
      "[Stage 291:>                                                        (0 + 2) / 2]\r"
     ]
    },
    {
     "name": "stdout",
     "output_type": "stream",
     "text": [
      "+---------+-------+-----------+------------------+-------+------------+-----+--------------------+--------------------+\n",
      "|subreddit|     id|created_utc|            author|is_self|num_comments|score|            selftext|               title|\n",
      "+---------+-------+-----------+------------------+-------+------------+-----+--------------------+--------------------+\n",
      "| dogecoin| svxual| 1645233616|   IEagleIwastaken|  false|          27|  400|                    |     Super Doge Bros|\n",
      "| dogecoin| t8z5h1| 1646686299|     kuriputonaito|  false|           4|   24|                    |     SPARTANS ‼️‼️‼️|\n",
      "| dogecoin| twz03j| 1649176504|       maximumkush|  false|           0|   15|                    |Quick pup talk… h...|\n",
      "| dogecoin| ueu9vv| 1651262591|     Particular408|  false|           6|   15|                    |      Dog Not Single|\n",
      "| dogecoin| wii23i| 1659885346|         [deleted]|  false|           1|    1|           [deleted]|  Never selling💎 🙌|\n",
      "| dogecoin| y6q98s| 1666049316|   bostonguy420978|   true|          35|   14|Like the title sa...|Are you all buyin...|\n",
      "| dogecoin| z7u2q8| 1669728468|         tripletim|  false|           1|    0|                    |No-body saw this ...|\n",
      "| dogecoin| z9eq2n| 1669870214| UnbearablyLearned|   true|           0|    1|           [removed]|﻿Herobook - Battl...|\n",
      "| dogecoin|10oz13n| 1675075693| MakemoneyDigitale|   true|           0|    1|           [removed]|What is high-tick...|\n",
      "| dogecoin|10pu3i1| 1675156324|            xakrob|  false|           1|   12|                    |.420¢ Meme trade?...|\n",
      "| dogecoin| rtclnt| 1641015563|         chabie617|   true|           0|    1|           [removed]|HAPPY NEW YEAR!!!...|\n",
      "| dogecoin| rzrsyl| 1641735198|         [deleted]|  false|           5|    0|           [deleted]|              WOW 🙏|\n",
      "| dogecoin| s2kfjm| 1642030661|Potential_Base3229|   true|          17|   10|How many times a ...|       Check wallet?|\n",
      "| dogecoin| s3uk3u| 1642172952|         [deleted]|  false|          18|  124|                    |     Currencies 2022|\n",
      "| dogecoin| sjtd33| 1643919965|         [deleted]|   true|           0|    1|           [removed]|   [deleted by user]|\n",
      "| dogecoin| sl5e2i| 1644062441|         rizzo49er|  false|           9|    8|                    |Classic doge.... ...|\n",
      "| dogecoin| t3zuqw| 1646110793|         [deleted]|  false|           0|    1|           [deleted]|🚀Tesla CEO Elon ...|\n",
      "| dogecoin| tc2hkt| 1647039481|   BumblebeeNo3732|   true|          10|    1|                    |             SHHhhhh|\n",
      "| dogecoin| tqemtx| 1648488746|       DOGEDOG2020|  false|           2|   50|                    |are we going or c...|\n",
      "| dogecoin| tx1mfb| 1649183502|            DOGETR|  false|           5|   42|                    |    TO THE MOON 🌙❤️|\n",
      "+---------+-------+-----------+------------------+-------+------------+-----+--------------------+--------------------+\n",
      "only showing top 20 rows\n",
      "\n"
     ]
    },
    {
     "name": "stderr",
     "output_type": "stream",
     "text": [
      "                                                                                \r"
     ]
    }
   ],
   "source": [
    "posts_only.show()"
   ]
  },
  {
   "cell_type": "code",
   "execution_count": 66,
   "id": "1d62a512-1b93-40ea-a146-d63edaf49bc6",
   "metadata": {
    "tags": []
   },
   "outputs": [
    {
     "name": "stderr",
     "output_type": "stream",
     "text": [
      "[Stage 294:============================>                            (1 + 1) / 2]\r"
     ]
    },
    {
     "name": "stdout",
     "output_type": "stream",
     "text": [
      "+---------+------+-----------+---------------+-------+------------+-----+---------+--------------------+-------------------+----+\n",
      "|subreddit|    id|created_utc|         author|is_self|num_comments|score| selftext|               title|           datetime|hour|\n",
      "+---------+------+-----------+---------------+-------+------------+-----+---------+--------------------+-------------------+----+\n",
      "| dogecoin|svxual| 1645233616|IEagleIwastaken|  false|          27|  400|         |     Super Doge Bros|2022-02-19 01:20:16|   1|\n",
      "| dogecoin|t8z5h1| 1646686299|  kuriputonaito|  false|           4|   24|         |     SPARTANS ‼️‼️‼️|2022-03-07 20:51:39|  20|\n",
      "| dogecoin|twz03j| 1649176504|    maximumkush|  false|           0|   15|         |Quick pup talk… h...|2022-04-05 16:35:04|  16|\n",
      "| dogecoin|ueu9vv| 1651262591|  Particular408|  false|           6|   15|         |      Dog Not Single|2022-04-29 20:03:11|  20|\n",
      "| dogecoin|wii23i| 1659885346|      [deleted]|  false|           1|    1|[deleted]|  Never selling💎 🙌|2022-08-07 15:15:46|  15|\n",
      "+---------+------+-----------+---------------+-------+------------+-----+---------+--------------------+-------------------+----+\n",
      "only showing top 5 rows\n",
      "\n"
     ]
    },
    {
     "name": "stderr",
     "output_type": "stream",
     "text": [
      "                                                                                \r"
     ]
    }
   ],
   "source": [
    "from pyspark.sql.functions import col, from_unixtime, to_timestamp, hour\n",
    "\n",
    "\n",
    "post_only_time = posts_only.withColumn(\"datetime\", to_timestamp(from_unixtime(col(\"created_utc\"))))\\\n",
    ".withColumn(\"hour\", hour(\"datetime\"))\n",
    "\n",
    "\n",
    "post_only_time.show(5)"
   ]
  },
  {
   "cell_type": "code",
   "execution_count": 67,
   "id": "9cf902c2-ba4c-4bb2-b6a9-0627e051338c",
   "metadata": {
    "tags": []
   },
   "outputs": [
    {
     "name": "stderr",
     "output_type": "stream",
     "text": [
      "                                                                                \r"
     ]
    }
   ],
   "source": [
    "post_only_time_pd = post_only_time.groupBy('hour').agg(f.count(\"*\").alias(\"posts\"), \\\n",
    "                                   f.sum(\"num_comments\").alias(\"comments\")).orderBy(col(\"hour\")).toPandas()"
   ]
  },
  {
   "cell_type": "code",
   "execution_count": 68,
   "id": "5091f3f5-b278-4aef-85f2-8b15373dabbb",
   "metadata": {
    "tags": []
   },
   "outputs": [
    {
     "data": {
      "text/html": [
       "<div>\n",
       "<style scoped>\n",
       "    .dataframe tbody tr th:only-of-type {\n",
       "        vertical-align: middle;\n",
       "    }\n",
       "\n",
       "    .dataframe tbody tr th {\n",
       "        vertical-align: top;\n",
       "    }\n",
       "\n",
       "    .dataframe thead th {\n",
       "        text-align: right;\n",
       "    }\n",
       "</style>\n",
       "<table border=\"1\" class=\"dataframe\">\n",
       "  <thead>\n",
       "    <tr style=\"text-align: right;\">\n",
       "      <th></th>\n",
       "      <th>hour</th>\n",
       "      <th>posts</th>\n",
       "      <th>comments</th>\n",
       "    </tr>\n",
       "  </thead>\n",
       "  <tbody>\n",
       "    <tr>\n",
       "      <th>0</th>\n",
       "      <td>0</td>\n",
       "      <td>1997</td>\n",
       "      <td>31604</td>\n",
       "    </tr>\n",
       "    <tr>\n",
       "      <th>1</th>\n",
       "      <td>1</td>\n",
       "      <td>1962</td>\n",
       "      <td>25045</td>\n",
       "    </tr>\n",
       "    <tr>\n",
       "      <th>2</th>\n",
       "      <td>2</td>\n",
       "      <td>2016</td>\n",
       "      <td>24985</td>\n",
       "    </tr>\n",
       "    <tr>\n",
       "      <th>3</th>\n",
       "      <td>3</td>\n",
       "      <td>1838</td>\n",
       "      <td>25967</td>\n",
       "    </tr>\n",
       "    <tr>\n",
       "      <th>4</th>\n",
       "      <td>4</td>\n",
       "      <td>1781</td>\n",
       "      <td>25689</td>\n",
       "    </tr>\n",
       "    <tr>\n",
       "      <th>5</th>\n",
       "      <td>5</td>\n",
       "      <td>1710</td>\n",
       "      <td>18272</td>\n",
       "    </tr>\n",
       "    <tr>\n",
       "      <th>6</th>\n",
       "      <td>6</td>\n",
       "      <td>1599</td>\n",
       "      <td>15530</td>\n",
       "    </tr>\n",
       "    <tr>\n",
       "      <th>7</th>\n",
       "      <td>7</td>\n",
       "      <td>1401</td>\n",
       "      <td>11961</td>\n",
       "    </tr>\n",
       "    <tr>\n",
       "      <th>8</th>\n",
       "      <td>8</td>\n",
       "      <td>1408</td>\n",
       "      <td>15645</td>\n",
       "    </tr>\n",
       "    <tr>\n",
       "      <th>9</th>\n",
       "      <td>9</td>\n",
       "      <td>1475</td>\n",
       "      <td>26413</td>\n",
       "    </tr>\n",
       "    <tr>\n",
       "      <th>10</th>\n",
       "      <td>10</td>\n",
       "      <td>1557</td>\n",
       "      <td>27018</td>\n",
       "    </tr>\n",
       "    <tr>\n",
       "      <th>11</th>\n",
       "      <td>11</td>\n",
       "      <td>1693</td>\n",
       "      <td>26013</td>\n",
       "    </tr>\n",
       "    <tr>\n",
       "      <th>12</th>\n",
       "      <td>12</td>\n",
       "      <td>1847</td>\n",
       "      <td>25456</td>\n",
       "    </tr>\n",
       "    <tr>\n",
       "      <th>13</th>\n",
       "      <td>13</td>\n",
       "      <td>2185</td>\n",
       "      <td>30994</td>\n",
       "    </tr>\n",
       "    <tr>\n",
       "      <th>14</th>\n",
       "      <td>14</td>\n",
       "      <td>2373</td>\n",
       "      <td>27036</td>\n",
       "    </tr>\n",
       "    <tr>\n",
       "      <th>15</th>\n",
       "      <td>15</td>\n",
       "      <td>2509</td>\n",
       "      <td>35214</td>\n",
       "    </tr>\n",
       "    <tr>\n",
       "      <th>16</th>\n",
       "      <td>16</td>\n",
       "      <td>2476</td>\n",
       "      <td>41533</td>\n",
       "    </tr>\n",
       "    <tr>\n",
       "      <th>17</th>\n",
       "      <td>17</td>\n",
       "      <td>2575</td>\n",
       "      <td>31730</td>\n",
       "    </tr>\n",
       "    <tr>\n",
       "      <th>18</th>\n",
       "      <td>18</td>\n",
       "      <td>2377</td>\n",
       "      <td>31290</td>\n",
       "    </tr>\n",
       "    <tr>\n",
       "      <th>19</th>\n",
       "      <td>19</td>\n",
       "      <td>2360</td>\n",
       "      <td>31274</td>\n",
       "    </tr>\n",
       "    <tr>\n",
       "      <th>20</th>\n",
       "      <td>20</td>\n",
       "      <td>2319</td>\n",
       "      <td>25648</td>\n",
       "    </tr>\n",
       "    <tr>\n",
       "      <th>21</th>\n",
       "      <td>21</td>\n",
       "      <td>2188</td>\n",
       "      <td>29706</td>\n",
       "    </tr>\n",
       "    <tr>\n",
       "      <th>22</th>\n",
       "      <td>22</td>\n",
       "      <td>1897</td>\n",
       "      <td>27101</td>\n",
       "    </tr>\n",
       "    <tr>\n",
       "      <th>23</th>\n",
       "      <td>23</td>\n",
       "      <td>1830</td>\n",
       "      <td>25806</td>\n",
       "    </tr>\n",
       "  </tbody>\n",
       "</table>\n",
       "</div>"
      ],
      "text/plain": [
       "    hour  posts  comments\n",
       "0      0   1997     31604\n",
       "1      1   1962     25045\n",
       "2      2   2016     24985\n",
       "3      3   1838     25967\n",
       "4      4   1781     25689\n",
       "5      5   1710     18272\n",
       "6      6   1599     15530\n",
       "7      7   1401     11961\n",
       "8      8   1408     15645\n",
       "9      9   1475     26413\n",
       "10    10   1557     27018\n",
       "11    11   1693     26013\n",
       "12    12   1847     25456\n",
       "13    13   2185     30994\n",
       "14    14   2373     27036\n",
       "15    15   2509     35214\n",
       "16    16   2476     41533\n",
       "17    17   2575     31730\n",
       "18    18   2377     31290\n",
       "19    19   2360     31274\n",
       "20    20   2319     25648\n",
       "21    21   2188     29706\n",
       "22    22   1897     27101\n",
       "23    23   1830     25806"
      ]
     },
     "execution_count": 68,
     "metadata": {},
     "output_type": "execute_result"
    }
   ],
   "source": [
    "post_only_time_pd"
   ]
  },
  {
   "cell_type": "code",
   "execution_count": 158,
   "id": "c3bb4ae8-f98e-4611-b018-3ddb1ec77aa2",
   "metadata": {
    "tags": []
   },
   "outputs": [
    {
     "data": {
      "text/plain": [
       "<Figure size 1400x700 with 0 Axes>"
      ]
     },
     "metadata": {},
     "output_type": "display_data"
    },
    {
     "data": {
      "image/png": "[encoded data removed]",
      "text/plain": [
       "<Figure size 1200x600 with 2 Axes>"
      ]
     },
     "metadata": {},
     "output_type": "display_data"
    }
   ],
   "source": [
    "with plt.style.context(['science', 'high-vis']):\n",
    "    # Configure plot settings\n",
    "    plt.figure(figsize=(14, 7))\n",
    "    plt.rcParams['axes.labelsize'] = 18\n",
    "    plt.rcParams['axes.titlesize'] = 20\n",
    "    plt.rcParams['xtick.labelsize'] = 14\n",
    "    plt.rcParams['ytick.labelsize'] = 14\n",
    "    plt.rcParams['legend.title_fontsize'] = 18\n",
    "    plt.rcParams['legend.fontsize'] = 16\n",
    "    plt.rcParams.update({\n",
    "        \"text.usetex\": False,\n",
    "        \"font.family\": \"sans-serif\"\n",
    "    })\n",
    "    plt.rcParams['font.family'] = 'sans-serif'\n",
    "    plt.rcParams['font.size'] = 12\n",
    "    plt.rcParams['font.weight'] = 'normal'\n",
    "\n",
    "\n",
    "\n",
    "\n",
    "fig, ax1 = plt.subplots(figsize=(12, 6))\n",
    "\n",
    "# Bar chart for posts\n",
    "ax1.bar(post_only_time_pd['hour'], post_only_time_pd['posts'], color='tab:blue', label='Posts', width=0.4)\n",
    "ax1.set_xlabel('Hour of the Day')\n",
    "ax1.set_ylabel('Number of Posts', color='tab:blue')\n",
    "ax1.tick_params(axis='y', labelcolor='tab:blue')\n",
    "\n",
    "# Twin axis for comments\n",
    "ax2 = ax1.twinx()\n",
    "ax2.plot(post_only_time_pd['hour'], post_only_time_pd['comments'], color='firebrick', label='Comments', marker='o', linewidth=2)\n",
    "ax2.set_ylabel('Number of Comments', color='firebrick')\n",
    "ax2.tick_params(axis='y', labelcolor='firebrick')\n",
    "\n",
    "# Title and combined legend\n",
    "fig.suptitle('Posts and Comments by Hour')\n",
    "fig.legend(loc=\"upper right\", bbox_to_anchor=(1,1), bbox_transform=ax1.transAxes)\n",
    "\n",
    "plt.savefig('../../website-source/plots/EDA/Q2/2_1.png')\n",
    "plt.show()"
   ]
  },
  {
   "cell_type": "markdown",
   "id": "525d016e-51dc-496b-ad84-12ba51117356",
   "metadata": {},
   "source": [
    "### Posts and comments by day of week"
   ]
  },
  {
   "cell_type": "code",
   "execution_count": 72,
   "id": "4866cd7c-1d19-44e9-a6ec-18501d02397e",
   "metadata": {
    "tags": []
   },
   "outputs": [],
   "source": [
    "post_only_day = posts_only.withColumn(\"datetime\", to_timestamp(from_unixtime(col(\"created_utc\"))))\\\n",
    ".withColumn(\"day_of_week\", f.date_format(\"datetime\", \"E\"))\n"
   ]
  },
  {
   "cell_type": "code",
   "execution_count": 73,
   "id": "af05d534-a480-409e-9389-df35da8848c5",
   "metadata": {
    "tags": []
   },
   "outputs": [
    {
     "name": "stderr",
     "output_type": "stream",
     "text": [
      "[Stage 310:>                                                        (0 + 2) / 2]\r"
     ]
    },
    {
     "name": "stdout",
     "output_type": "stream",
     "text": [
      "+---------+------+-----------+---------------+-------+------------+-----+---------+--------------------+-------------------+-----------+\n",
      "|subreddit|    id|created_utc|         author|is_self|num_comments|score| selftext|               title|           datetime|day_of_week|\n",
      "+---------+------+-----------+---------------+-------+------------+-----+---------+--------------------+-------------------+-----------+\n",
      "| dogecoin|svxual| 1645233616|IEagleIwastaken|  false|          27|  400|         |     Super Doge Bros|2022-02-19 01:20:16|        Sat|\n",
      "| dogecoin|t8z5h1| 1646686299|  kuriputonaito|  false|           4|   24|         |     SPARTANS ‼️‼️‼️|2022-03-07 20:51:39|        Mon|\n",
      "| dogecoin|twz03j| 1649176504|    maximumkush|  false|           0|   15|         |Quick pup talk… h...|2022-04-05 16:35:04|        Tue|\n",
      "| dogecoin|ueu9vv| 1651262591|  Particular408|  false|           6|   15|         |      Dog Not Single|2022-04-29 20:03:11|        Fri|\n",
      "| dogecoin|wii23i| 1659885346|      [deleted]|  false|           1|    1|[deleted]|  Never selling💎 🙌|2022-08-07 15:15:46|        Sun|\n",
      "+---------+------+-----------+---------------+-------+------------+-----+---------+--------------------+-------------------+-----------+\n",
      "only showing top 5 rows\n",
      "\n"
     ]
    },
    {
     "name": "stderr",
     "output_type": "stream",
     "text": [
      "                                                                                \r"
     ]
    }
   ],
   "source": [
    "post_only_day.show(5)"
   ]
  },
  {
   "cell_type": "code",
   "execution_count": 75,
   "id": "ddf91d47-e2a5-4d8e-b612-18fcd344e4d3",
   "metadata": {
    "tags": []
   },
   "outputs": [
    {
     "name": "stderr",
     "output_type": "stream",
     "text": [
      "                                                                                \r"
     ]
    }
   ],
   "source": [
    "post_only_day_pd = post_only_day .groupBy('day_of_week').agg(f.count(\"*\").alias(\"posts\"), \\\n",
    "                                   f.sum(\"num_comments\").alias(\"comments\")).orderBy(col(\"day_of_week\")).toPandas()"
   ]
  },
  {
   "cell_type": "code",
   "execution_count": 79,
   "id": "1fcfe5f8-ef81-45fe-817f-b2c8727628f0",
   "metadata": {
    "tags": []
   },
   "outputs": [
    {
     "data": {
      "image/png": "[encoded data removed]",
      "text/plain": [
       "<Figure size 1200x600 with 2 Axes>"
      ]
     },
     "metadata": {},
     "output_type": "display_data"
    }
   ],
   "source": [
    "post_only_day_pd['day_of_week'] = post_only_day_pd['day_of_week'].replace({'Mon': '1-Mon', 'Tue': '2-Tue', 'Wed': '3-Wed',\\\n",
    "                                                                           'Thu': '4-Thu', 'Fri':'5-Fri', 'Sat':'6-Sat', 'Sun': '7-Sun'})\n",
    "post_only_day_pd = post_only_day_pd.sort_values(by='day_of_week')\n",
    "\n",
    "fig, ax1 = plt.subplots(figsize=(12, 6))\n",
    "\n",
    "# Bar chart for posts\n",
    "ax1.bar(post_only_day_pd['day_of_week'], post_only_day_pd['posts'], color='tab:blue', label='Posts', width=0.4)\n",
    "ax1.set_xlabel('Hour of the Day')\n",
    "ax1.set_ylabel('Number of Posts', color='tab:blue')\n",
    "ax1.tick_params(axis='y', labelcolor='tab:blue')\n",
    "\n",
    "# Twin axis for comments\n",
    "ax2 = ax1.twinx()\n",
    "ax2.plot(post_only_day_pd['day_of_week'], post_only_day_pd['comments'], color='firebrick', label='Comments', marker='o', linewidth=2)\n",
    "ax2.set_ylabel('Number of Comments', color='firebrick')\n",
    "ax2.tick_params(axis='y', labelcolor='firebrick')\n",
    "\n",
    "# Title and combined legend\n",
    "fig.suptitle('Posts and Comments by Day')\n",
    "fig.legend(loc=\"upper right\", bbox_to_anchor=(1,1), bbox_transform=ax1.transAxes)\n",
    "\n",
    "plt.show()"
   ]
  },
  {
   "cell_type": "markdown",
   "id": "de9bb797-2a82-40c8-a0cd-2ba40fcb633a",
   "metadata": {},
   "source": [
    "### Network graph of users"
   ]
  },
  {
   "cell_type": "code",
   "execution_count": 86,
   "id": "dcfbf1ed-f53e-49f8-af6d-fe40a6019227",
   "metadata": {
    "tags": []
   },
   "outputs": [
    {
     "name": "stderr",
     "output_type": "stream",
     "text": [
      "[Stage 305:============================>                            (1 + 1) / 2]\r"
     ]
    },
    {
     "name": "stdout",
     "output_type": "stream",
     "text": [
      "+---------+-----------+--------+-----------+\n",
      "|subreddit|     author|comments|total_score|\n",
      "+---------+-----------+--------+-----------+\n",
      "| dogecoin|  [deleted]|   37104|     110683|\n",
      "| dogecoin|  Links2586|    3186|      67279|\n",
      "| dogecoin|  rizzo49er|    4941|      46276|\n",
      "| dogecoin|KingCoin187|    6521|      28037|\n",
      "| dogecoin|  Yellomelw|    3414|      25979|\n",
      "+---------+-----------+--------+-----------+\n",
      "only showing top 5 rows\n",
      "\n"
     ]
    },
    {
     "name": "stderr",
     "output_type": "stream",
     "text": [
      "                                                                                \r"
     ]
    }
   ],
   "source": [
    "posts_only_grp.show(5)"
   ]
  },
  {
   "cell_type": "code",
   "execution_count": 87,
   "id": "0beb9e1d-c423-4c8d-a04c-48f3834c7626",
   "metadata": {
    "tags": []
   },
   "outputs": [
    {
     "name": "stderr",
     "output_type": "stream",
     "text": [
      "                                                                                \r"
     ]
    },
    {
     "data": {
      "text/plain": [
       "15761"
      ]
     },
     "execution_count": 87,
     "metadata": {},
     "output_type": "execute_result"
    }
   ],
   "source": [
    "posts_only_grp.count()"
   ]
  },
  {
   "cell_type": "code",
   "execution_count": 88,
   "id": "b167cd61-9ba8-4d5b-a2c7-0724d1e7259b",
   "metadata": {
    "tags": []
   },
   "outputs": [
    {
     "name": "stderr",
     "output_type": "stream",
     "text": [
      "[Stage 323:>                                                        (0 + 2) / 2]\r"
     ]
    },
    {
     "name": "stdout",
     "output_type": "stream",
     "text": [
      "+--------------+----------+-----------+\n",
      "| com_subreddit|com_author|total_score|\n",
      "+--------------+----------+-----------+\n",
      "|      dogecoin| [deleted]|     173364|\n",
      "|      dogecoin| liquid_at|      24823|\n",
      "|CryptoCurrency| [deleted]|      23386|\n",
      "|      dogecoin|  Fulvio55|       7915|\n",
      "|      dogecoin| sodogetip|       7385|\n",
      "+--------------+----------+-----------+\n",
      "only showing top 5 rows\n",
      "\n"
     ]
    },
    {
     "name": "stderr",
     "output_type": "stream",
     "text": [
      "                                                                                \r"
     ]
    }
   ],
   "source": [
    "comments_only_grp.show(5)"
   ]
  },
  {
   "cell_type": "code",
   "execution_count": 90,
   "id": "958a3d17-e1ea-4f25-8131-3b4bd8c706ab",
   "metadata": {
    "tags": []
   },
   "outputs": [
    {
     "name": "stderr",
     "output_type": "stream",
     "text": [
      "[Stage 329:>                                                        (0 + 2) / 2]\r"
     ]
    },
    {
     "data": {
      "text/plain": [
       "82125"
      ]
     },
     "execution_count": 90,
     "metadata": {},
     "output_type": "execute_result"
    },
    {
     "name": "stderr",
     "output_type": "stream",
     "text": [
      "                                                                                \r"
     ]
    }
   ],
   "source": [
    "comments_only_grp.count()"
   ]
  },
  {
   "cell_type": "code",
   "execution_count": 92,
   "id": "7491d80d-5f0a-4e9c-952a-8c9328465b6a",
   "metadata": {
    "tags": []
   },
   "outputs": [
    {
     "name": "stderr",
     "output_type": "stream",
     "text": [
      "                                                                                \r"
     ]
    },
    {
     "name": "stdout",
     "output_type": "stream",
     "text": [
      "+---------+-----------+--------+-----------+\n",
      "|subreddit|     author|comments|total_score|\n",
      "+---------+-----------+--------+-----------+\n",
      "| dogecoin|  [deleted]|   37104|     110683|\n",
      "| dogecoin|  Links2586|    3186|      67279|\n",
      "| dogecoin|  rizzo49er|    4941|      46276|\n",
      "| dogecoin|KingCoin187|    6521|      28037|\n",
      "| dogecoin|  Yellomelw|    3414|      25979|\n",
      "+---------+-----------+--------+-----------+\n",
      "only showing top 5 rows\n",
      "\n"
     ]
    }
   ],
   "source": [
    "# Combining posts and comments tables\n",
    "\n",
    "comments_only_grp = comments_only_grp.withColumnRenamed(\"com_subreddit\", \"subreddit\")\\\n",
    "         .withColumnRenamed(\"com_author\", \"author\")\n",
    "\n",
    "\n",
    "comments_only_grp = comments_only_grp.withColumn(\"comments\", f.lit(None).cast(\"int\"))\n",
    "\n",
    "\n",
    "authors_df = posts_only_grp.unionByName(comments_only_grp)\n",
    "\n",
    "authors_df.show(5)"
   ]
  },
  {
   "cell_type": "code",
   "execution_count": 93,
   "id": "abbaf8e0-431c-4b89-872d-dea45c6e659d",
   "metadata": {
    "tags": []
   },
   "outputs": [],
   "source": [
    "authors_df = authors_df.select('subreddit', 'author', 'total_score')"
   ]
  },
  {
   "cell_type": "code",
   "execution_count": 94,
   "id": "579e8b8f-bcba-4269-ac0d-28c95de1995c",
   "metadata": {
    "tags": []
   },
   "outputs": [],
   "source": [
    "authors_df_uq = authors_df.groupBy('author').agg(f.sum('total_score').alias('ovr_score'))"
   ]
  },
  {
   "cell_type": "code",
   "execution_count": 95,
   "id": "3eaf0d55-e0fa-430c-8382-239bab6f619d",
   "metadata": {
    "tags": []
   },
   "outputs": [
    {
     "name": "stderr",
     "output_type": "stream",
     "text": [
      "                                                                                \r"
     ]
    },
    {
     "data": {
      "text/plain": [
       "87744"
      ]
     },
     "execution_count": 95,
     "metadata": {},
     "output_type": "execute_result"
    }
   ],
   "source": [
    "authors_df_uq.count()"
   ]
  },
  {
   "cell_type": "code",
   "execution_count": 160,
   "id": "7bce6b86-ddc1-436b-b0c0-8a43012aea4e",
   "metadata": {
    "tags": []
   },
   "outputs": [],
   "source": [
    "# Select a subset of top authors\n",
    "\n",
    "topn_score_authors = authors_df_uq.orderBy(col('ovr_score').desc()).limit(500) "
   ]
  },
  {
   "cell_type": "code",
   "execution_count": 161,
   "id": "e31a6c50-bb45-41ea-879f-088733004b11",
   "metadata": {
    "tags": []
   },
   "outputs": [
    {
     "name": "stderr",
     "output_type": "stream",
     "text": [
      "                                                                                \r"
     ]
    }
   ],
   "source": [
    "topn_score_authors_list = topn_score_authors.select(\"author\").rdd.flatMap(lambda x: x).collect()"
   ]
  },
  {
   "cell_type": "code",
   "execution_count": 162,
   "id": "568c3dca-1525-4d79-a3ca-8c3754972c5d",
   "metadata": {
    "tags": []
   },
   "outputs": [],
   "source": [
    "# Filter merged to include only top authors\n",
    "\n",
    "filtered_df = merged.filter(\n",
    "    col(\"author\").isin(topn_score_authors_list) & col(\"com_author\").isin(topn_score_authors_list))"
   ]
  },
  {
   "cell_type": "code",
   "execution_count": 163,
   "id": "d8713146-4ac5-4d96-88de-6c440a9a4fae",
   "metadata": {
    "tags": []
   },
   "outputs": [],
   "source": [
    "# Filter out rows where 'author' or 'com_author' is None or '[deleted]' or both author cols are same\n",
    "final_filtered_df = filtered_df.filter(\n",
    "    (col(\"author\").isNotNull()) & (col(\"com_author\").isNotNull()) &\n",
    "    (col(\"author\") != \"[deleted]\") & (col(\"com_author\") != \"[deleted]\") & (col(\"author\") != col(\"com_author\"))\n",
    ")"
   ]
  },
  {
   "cell_type": "code",
   "execution_count": 110,
   "id": "2231316a-e253-4e80-8b80-acae8310493b",
   "metadata": {
    "tags": []
   },
   "outputs": [
    {
     "name": "stdout",
     "output_type": "stream",
     "text": [
      "+---------+------------+-------+-----------+--------------------+-------+------------+-----+--------+--------------------+-------------+----------------+-------+---------------+---------------+-----------+---------+--------------------+-------------+\n",
      "|subreddit|subreddit_id|     id|created_utc|              author|is_self|num_comments|score|selftext|               title|com_subreddit|com_subreddit_id| com_id|com_created_utc|     com_author|com_link_id|com_score|            com_body|com_submis_id|\n",
      "+---------+------------+-------+-----------+--------------------+-------+------------+-----+--------+--------------------+-------------+----------------+-------+---------------+---------------+-----------+---------+--------------------+-------------+\n",
      "| dogecoin|    t5_2zcp2|101a0ol| 1672657440|     cryptoheimdallr|  false|           3|   75|        |Dogecoin is the k...|     dogecoin|        t5_2zcp2|j2nc9o7|     1672678000|    MissGone300| t3_101a0ol|        2|           More DOGE|      101a0ol|\n",
      "| dogecoin|    t5_2zcp2|101a0ol| 1672657440|     cryptoheimdallr|  false|           3|   75|        |Dogecoin is the k...|     dogecoin|        t5_2zcp2|j2ng8zl|     1672679581|   voterosticon| t3_101a0ol|        1|         MORE MEMERS|      101a0ol|\n",
      "| dogecoin|    t5_2zcp2|101a0ol| 1672657440|     cryptoheimdallr|  false|           3|   75|        |Dogecoin is the k...|     dogecoin|        t5_2zcp2|j2pm8nn|     1672710393|     M-Apple123| t3_101a0ol|        1|Come to my wallet...|      101a0ol|\n",
      "| dogecoin|    t5_2zcp2|101i88s| 1672680620|         TerminatorJ|  false|           3|   15|        |Introducing Agent...|     dogecoin|        t5_2zcp2|j2o0q86|     1672687419|masterbatesAlot| t3_101i88s|        2|                Nice|      101i88s|\n",
      "| dogecoin|    t5_2zcp2|101vv9t| 1672713843|Sea_Yogurtcloset7494|   true|           1|   11|   HODL!|A new year, a new...|     dogecoin|        t5_2zcp2|j2pxyd1|     1672715043| Same_Class5866| t3_101vv9t|        0|                  🚀|      101vv9t|\n",
      "+---------+------------+-------+-----------+--------------------+-------+------------+-----+--------+--------------------+-------------+----------------+-------+---------------+---------------+-----------+---------+--------------------+-------------+\n",
      "only showing top 5 rows\n",
      "\n"
     ]
    },
    {
     "name": "stderr",
     "output_type": "stream",
     "text": [
      "                                                                                \r"
     ]
    }
   ],
   "source": [
    "final_filtered_df.show(5)"
   ]
  },
  {
   "cell_type": "code",
   "execution_count": 164,
   "id": "0a0348e2-a70e-43c3-8331-b91b81aeccc0",
   "metadata": {
    "tags": []
   },
   "outputs": [
    {
     "name": "stderr",
     "output_type": "stream",
     "text": [
      "                                                                                \r"
     ]
    },
    {
     "data": {
      "text/plain": [
       "34595"
      ]
     },
     "execution_count": 164,
     "metadata": {},
     "output_type": "execute_result"
    }
   ],
   "source": [
    "final_filtered_df.count()"
   ]
  },
  {
   "cell_type": "code",
   "execution_count": 165,
   "id": "ffba6ef4-bd68-46c5-b69e-b74208919913",
   "metadata": {
    "tags": []
   },
   "outputs": [],
   "source": [
    "edges_df = final_filtered_df.select(\"author\", \"com_author\").distinct()"
   ]
  },
  {
   "cell_type": "code",
   "execution_count": 166,
   "id": "de52a6ce-a28f-4ca1-b77b-5fce1e8cc235",
   "metadata": {
    "tags": []
   },
   "outputs": [
    {
     "name": "stderr",
     "output_type": "stream",
     "text": [
      "                                                                                \r"
     ]
    },
    {
     "data": {
      "text/plain": [
       "8364"
      ]
     },
     "execution_count": 166,
     "metadata": {},
     "output_type": "execute_result"
    }
   ],
   "source": [
    "edges_df.count()"
   ]
  },
  {
   "cell_type": "code",
   "execution_count": 114,
   "id": "5fa1d7da-5cb2-43e5-93be-ce1b1bedfe8d",
   "metadata": {
    "tags": []
   },
   "outputs": [
    {
     "name": "stdout",
     "output_type": "stream",
     "text": [
      "24/04/04 20:38:07 WARN DAGScheduler: Broadcasting large task binary with size 1372.4 KiB\n"
     ]
    },
    {
     "name": "stderr",
     "output_type": "stream",
     "text": [
      "[Stage 540:============================>                            (1 + 1) / 2]\r"
     ]
    },
    {
     "name": "stdout",
     "output_type": "stream",
     "text": [
      "24/04/04 20:38:11 WARN DAGScheduler: Broadcasting large task binary with size 1374.4 KiB\n",
      "+-----------------+----------------+\n",
      "|           author|      com_author|\n",
      "+-----------------+----------------+\n",
      "|        dashlukky| genericperson10|\n",
      "|      Elrondarius|Evening_Two_9128|\n",
      "|           agogie|    Therealboebs|\n",
      "|DOGECOINBLACKBELT|    AntixianJUAR|\n",
      "|   TheLegendofMrZ|       sodogetip|\n",
      "+-----------------+----------------+\n",
      "only showing top 5 rows\n",
      "\n"
     ]
    },
    {
     "name": "stderr",
     "output_type": "stream",
     "text": [
      "                                                                                \r"
     ]
    }
   ],
   "source": [
    "edges_df.show(5)"
   ]
  },
  {
   "cell_type": "code",
   "execution_count": 167,
   "id": "6dcf9687-694c-4f41-bbd0-7832b8db0b90",
   "metadata": {
    "tags": []
   },
   "outputs": [
    {
     "name": "stderr",
     "output_type": "stream",
     "text": [
      "                                                                                \r"
     ]
    }
   ],
   "source": [
    "edges_pd = edges_df.toPandas()"
   ]
  },
  {
   "cell_type": "code",
   "execution_count": 169,
   "id": "7664a923-13a8-4c6c-b784-6558517cc430",
   "metadata": {
    "tags": []
   },
   "outputs": [
    {
     "data": {
      "image/png": "[encoded data removed]",
      "text/plain": [
       "<Figure size 1000x1000 with 1 Axes>"
      ]
     },
     "metadata": {},
     "output_type": "display_data"
    }
   ],
   "source": [
    "import networkx as nx\n",
    "import matplotlib.pyplot as plt\n",
    "\n",
    "# Create a graph from the edge list\n",
    "G = nx.from_pandas_edgelist(edges_pd, source=\"author\", target=\"com_author\")\n",
    "\n",
    "\n",
    "plt.figure(figsize=(10, 10))\n",
    "nx.draw(G, with_labels=False, node_size=20, edge_color=\"lightgray\", linewidths=0.1)\n",
    "plt.title(\"Network Graph of Users\")\n",
    "plt.show()"
   ]
  },
  {
   "cell_type": "markdown",
   "id": "dd23c2ad-5be1-41ad-b89e-12820d902f0a",
   "metadata": {},
   "source": [
    "### User stats table - Membership and activity across subreddits"
   ]
  },
  {
   "cell_type": "code",
   "execution_count": 80,
   "id": "cde012a3-0cc2-4272-8b48-98a46f8cb56e",
   "metadata": {
    "tags": []
   },
   "outputs": [],
   "source": [
    "user_stats = merged.select(\"id\",\"created_utc\", \"author\", \"score\",\"num_comments\",\\\n",
    "              \"com_created_utc\",\"com_author\",\"com_score\")"
   ]
  },
  {
   "cell_type": "code",
   "execution_count": 81,
   "id": "9e9bc920-f635-4c41-a607-297c427591de",
   "metadata": {
    "tags": []
   },
   "outputs": [],
   "source": [
    "# User stats for posts\n",
    "\n",
    "user_stats_p = user_stats.select(\"id\", \"created_utc\" , \"author\" , \"score\" , \"num_comments\").distinct()"
   ]
  },
  {
   "cell_type": "code",
   "execution_count": 82,
   "id": "778c1eee-e8a6-45e8-b075-e8eb8550da59",
   "metadata": {
    "tags": []
   },
   "outputs": [],
   "source": [
    "# User stats for comments\n",
    "\n",
    "user_stats_c = user_stats.select(\"com_created_utc\", \"com_author\", \"com_score\")"
   ]
  },
  {
   "cell_type": "code",
   "execution_count": 83,
   "id": "66864f80-a710-4cbe-9ba2-fd8f314a1c55",
   "metadata": {
    "tags": []
   },
   "outputs": [],
   "source": [
    "# User stats - posts - tabulated\n",
    "\n",
    "user_stats_p_t = user_stats_p.groupBy(\"author\").agg(f.count(\"*\").alias(\"n_posts\"),\\\n",
    "                                   f.sum(\"num_comments\").alias(\"n_comments_onposts\"),\\\n",
    "                                                 f.round(f.avg(\"num_comments\"), 2).alias(\"avg_cmnt_post\"),\n",
    "                                                    f.sum(\"score\").alias(\"sum_score\"),\\\n",
    "                                                    f.round(f.avg('score'), 2).alias('avg_score_post'))\n",
    "           #                                       f.countDistinct('created_utc').alias('days_active_p'),\n",
    "           #                                      f.min('created_utc').alias('first'),\\\n",
    "           #                                      f.max('created_utc').alias('last'))                                                 "
   ]
  },
  {
   "cell_type": "code",
   "execution_count": 84,
   "id": "329edb32-a793-4f96-a352-079a504ca75f",
   "metadata": {
    "tags": []
   },
   "outputs": [
    {
     "name": "stderr",
     "output_type": "stream",
     "text": [
      "[Stage 326:>                                                        (0 + 2) / 2]\r"
     ]
    },
    {
     "name": "stdout",
     "output_type": "stream",
     "text": [
      "+-------------+-------+------------------+-------------+---------+--------------+\n",
      "|       author|n_posts|n_comments_onposts|avg_cmnt_post|sum_score|avg_score_post|\n",
      "+-------------+-------+------------------+-------------+---------+--------------+\n",
      "|chamberzation|      4|                 9|         2.25|       32|           8.0|\n",
      "|      Jocogui|      1|                 0|          0.0|        1|           1.0|\n",
      "+-------------+-------+------------------+-------------+---------+--------------+\n",
      "only showing top 2 rows\n",
      "\n"
     ]
    },
    {
     "name": "stderr",
     "output_type": "stream",
     "text": [
      "                                                                                \r"
     ]
    }
   ],
   "source": [
    "user_stats_p_t.show(2)"
   ]
  },
  {
   "cell_type": "code",
   "execution_count": 85,
   "id": "269643dc-bef5-4dd4-bcfa-379c0629fe83",
   "metadata": {
    "tags": []
   },
   "outputs": [],
   "source": [
    "# User stats - comments - tabulated\n",
    "\n",
    "user_stats_c_t = user_stats_c.groupBy(\"com_author\").agg(f.count(\"*\").alias(\"n_comments\"),\\\n",
    "                                                        f.sum(\"com_score\").alias(\"sum_com_score\"),\\\n",
    "                                                    f.round(f.avg('com_score'), 2).alias('avg_score_com'))\n",
    "#                                                  f.countDistinct('com_created_utc').alias('days_active_c'),\n",
    "#                                                 f.min('com_created_utc').alias('first'),\\\n",
    "#                                                 f.max('com_created_utc').alias('last'))                                                 "
   ]
  },
  {
   "cell_type": "code",
   "execution_count": 86,
   "id": "b24885bc-b284-4561-bee9-9b9794075a21",
   "metadata": {
    "tags": []
   },
   "outputs": [
    {
     "name": "stderr",
     "output_type": "stream",
     "text": [
      "[Stage 332:>                                                        (0 + 2) / 2]\r"
     ]
    },
    {
     "name": "stdout",
     "output_type": "stream",
     "text": [
      "+-----------------+----------+-------------+-------------+\n",
      "|       com_author|n_comments|sum_com_score|avg_score_com|\n",
      "+-----------------+----------+-------------+-------------+\n",
      "|challengergaming1|        27|          314|        11.63|\n",
      "|           lz8001|         1|            1|          1.0|\n",
      "+-----------------+----------+-------------+-------------+\n",
      "only showing top 2 rows\n",
      "\n"
     ]
    },
    {
     "name": "stderr",
     "output_type": "stream",
     "text": [
      "                                                                                \r"
     ]
    }
   ],
   "source": [
    "user_stats_c_t.show(2)"
   ]
  },
  {
   "cell_type": "code",
   "execution_count": 87,
   "id": "e7b702f2-9c9c-45c2-9fcb-a530dfab5e8b",
   "metadata": {
    "tags": []
   },
   "outputs": [],
   "source": [
    "# Join user stats - posts and comments tables\n",
    "\n",
    "user_stats_join = user_stats_p_t.join(\n",
    "    user_stats_c_t, (user_stats_p_t.author == user_stats_c_t.com_author), \"outer\")"
   ]
  },
  {
   "cell_type": "code",
   "execution_count": 88,
   "id": "db8f6f88-1159-49b2-8f67-3a0eb441b953",
   "metadata": {
    "tags": []
   },
   "outputs": [
    {
     "name": "stderr",
     "output_type": "stream",
     "text": [
      "[Stage 336:============================>                            (1 + 1) / 2]\r"
     ]
    },
    {
     "name": "stdout",
     "output_type": "stream",
     "text": [
      "+------+-------+------------------+-------------+---------+--------------+----------------+----------+-------------+-------------+\n",
      "|author|n_posts|n_comments_onposts|avg_cmnt_post|sum_score|avg_score_post|      com_author|n_comments|sum_com_score|avg_score_com|\n",
      "+------+-------+------------------+-------------+---------+--------------+----------------+----------+-------------+-------------+\n",
      "|  null|   null|              null|         null|     null|          null|            null|     15893|         null|         null|\n",
      "|  null|   null|              null|         null|     null|          null|----xxxzzzzzzzzz|         1|            2|          2.0|\n",
      "+------+-------+------------------+-------------+---------+--------------+----------------+----------+-------------+-------------+\n",
      "only showing top 2 rows\n",
      "\n"
     ]
    },
    {
     "name": "stderr",
     "output_type": "stream",
     "text": [
      "                                                                                \r"
     ]
    }
   ],
   "source": [
    "user_stats_join.show(2)"
   ]
  },
  {
   "cell_type": "code",
   "execution_count": 89,
   "id": "6f00a444-5831-462f-91f9-dcd94b279530",
   "metadata": {
    "tags": []
   },
   "outputs": [],
   "source": [
    "# Remove 'null' users and clean up table\n",
    "\n",
    "user_stats_join_2 = user_stats_join.withColumn(\n",
    "    \"user\",\n",
    "    f.coalesce(f.col(\"author\"), f.col(\"com_author\"))).na.fill(0)\\\n",
    ".withColumn(\"n_activities\", (col('n_posts') + col('n_comments')))\\\n",
    ".select('user', 'n_activities', 'n_posts','n_comments_onposts', 'avg_cmnt_post', 'sum_score',\\\n",
    "         'avg_score_post', 'n_comments', 'sum_com_score', 'avg_score_com').filter(col('user').isNotNull())"
   ]
  },
  {
   "cell_type": "code",
   "execution_count": 90,
   "id": "091534de-84b0-46aa-b3eb-d80c3c1d1483",
   "metadata": {
    "tags": []
   },
   "outputs": [
    {
     "name": "stderr",
     "output_type": "stream",
     "text": [
      "                                                                                \r"
     ]
    },
    {
     "data": {
      "text/plain": [
       "87743"
      ]
     },
     "execution_count": 90,
     "metadata": {},
     "output_type": "execute_result"
    }
   ],
   "source": [
    "user_stats_join_2.count()"
   ]
  },
  {
   "cell_type": "code",
   "execution_count": 91,
   "id": "5e48c7d8-fd34-40d5-bda1-8b71d9a72e42",
   "metadata": {
    "tags": []
   },
   "outputs": [
    {
     "name": "stderr",
     "output_type": "stream",
     "text": [
      "[Stage 355:============================>                            (1 + 1) / 2]\r"
     ]
    },
    {
     "name": "stdout",
     "output_type": "stream",
     "text": [
      "+-----------------+------------+-------+------------------+-------------+---------+--------------+----------+-------------+-------------+\n",
      "|             user|n_activities|n_posts|n_comments_onposts|avg_cmnt_post|sum_score|avg_score_post|n_comments|sum_com_score|avg_score_com|\n",
      "+-----------------+------------+-------+------------------+-------------+---------+--------------+----------+-------------+-------------+\n",
      "|        [deleted]|      183919|   7983|             40646|         5.09|   112146|         14.05|    175936|       196750|         1.12|\n",
      "|        rizzo49er|        1006|    492|              4941|        10.04|    46276|         94.06|       514|          839|         1.63|\n",
      "|         42points|         347|    279|             36774|       131.81|    11516|         41.28|        68|          240|         3.53|\n",
      "|  SeaScarcity2110|         349|    277|              3181|        11.48|    17303|         62.47|        72|          208|         2.89|\n",
      "|   TheDogeAcademy|         345|    270|              1763|         6.53|    15894|         58.87|        75|          117|         1.56|\n",
      "|  Bluesmantexas89|         208|    208|               125|          0.6|      293|          1.41|         0|            0|          0.0|\n",
      "|   Full_Moon_LoBo|         242|    203|              2325|        11.45|    23404|        115.29|        39|          104|         2.67|\n",
      "|        Yellomelw|         378|    191|              3417|        17.89|    25981|        136.03|       187|          498|         2.66|\n",
      "|     Mananimalism|        1240|    166|              2774|        16.71|    19400|        116.87|      1074|         3635|         3.38|\n",
      "|HumanbyNature1717|         849|    157|              3386|        21.57|    22969|         146.3|       692|         1562|         2.26|\n",
      "+-----------------+------------+-------+------------------+-------------+---------+--------------+----------+-------------+-------------+\n",
      "only showing top 10 rows\n",
      "\n"
     ]
    },
    {
     "name": "stderr",
     "output_type": "stream",
     "text": [
      "                                                                                \r"
     ]
    }
   ],
   "source": [
    "user_stats_join_2.orderBy(col('n_posts').desc()).show(10)"
   ]
  },
  {
   "cell_type": "code",
   "execution_count": 93,
   "id": "cfd27426-4b5e-44ba-9522-0a56e692a38f",
   "metadata": {
    "tags": []
   },
   "outputs": [
    {
     "name": "stderr",
     "output_type": "stream",
     "text": [
      "                                                                                \r"
     ]
    }
   ],
   "source": [
    "# Convert table to pandas\n",
    "\n",
    "user_table_pd = user_stats_join_2.orderBy(col('n_posts').desc()).limit(10).toPandas()"
   ]
  },
  {
   "cell_type": "code",
   "execution_count": 113,
   "id": "39d2cd90-dbf5-4d14-9abc-f7d406f97112",
   "metadata": {
    "tags": []
   },
   "outputs": [],
   "source": [
    "# Isolate common users across both subreddits\n",
    "\n",
    "common_users = appended_df.groupBy(\"author\").agg(f.count(\"*\").alias(\"count\"))\\\n",
    "               .filter(col(\"count\") > 1).withColumn(\"subreddit\", f.lit('both')).select('subreddit', 'author')"
   ]
  },
  {
   "cell_type": "code",
   "execution_count": 114,
   "id": "aa93a82b-f584-4292-b323-4ed848dc514b",
   "metadata": {
    "tags": []
   },
   "outputs": [
    {
     "name": "stderr",
     "output_type": "stream",
     "text": [
      "                                                                                \r"
     ]
    },
    {
     "data": {
      "text/plain": [
       "2782"
      ]
     },
     "execution_count": 114,
     "metadata": {},
     "output_type": "execute_result"
    }
   ],
   "source": [
    "common_users.distinct().count()"
   ]
  },
  {
   "cell_type": "code",
   "execution_count": 115,
   "id": "7570e308-d363-4f61-a32b-76e06dacc9e6",
   "metadata": {
    "tags": []
   },
   "outputs": [
    {
     "name": "stderr",
     "output_type": "stream",
     "text": [
      "[Stage 530:============================>                            (1 + 1) / 2]\r"
     ]
    },
    {
     "name": "stdout",
     "output_type": "stream",
     "text": [
      "+---------+-----------------+\n",
      "|subreddit|           author|\n",
      "+---------+-----------------+\n",
      "|     both| MuchDogeCurrency|\n",
      "|     both|Money-Driver-7534|\n",
      "|     both|  WicasaNapayshni|\n",
      "|     both|      Johnny_ac3s|\n",
      "|     both|        NangSal23|\n",
      "+---------+-----------------+\n",
      "only showing top 5 rows\n",
      "\n"
     ]
    },
    {
     "name": "stderr",
     "output_type": "stream",
     "text": [
      "                                                                                \r"
     ]
    }
   ],
   "source": [
    "common_users.show(5)"
   ]
  },
  {
   "cell_type": "code",
   "execution_count": 98,
   "id": "cfab3269-7e86-4634-8529-6207eec1b133",
   "metadata": {
    "tags": []
   },
   "outputs": [
    {
     "name": "stderr",
     "output_type": "stream",
     "text": [
      "                                                                                \r"
     ]
    }
   ],
   "source": [
    "common_users_list = common_users.select(\"author\").rdd.flatMap(lambda x: x).collect()"
   ]
  },
  {
   "cell_type": "code",
   "execution_count": 107,
   "id": "b99eaba4-2737-440d-a39e-18f766df8133",
   "metadata": {
    "tags": []
   },
   "outputs": [],
   "source": [
    "# Isolate users who are part of one subreddit only\n",
    "\n",
    "mono_users = appended_df.filter(~col(\"author\").isin(common_users_list))\n"
   ]
  },
  {
   "cell_type": "code",
   "execution_count": 111,
   "id": "73359892-79da-4348-8b93-af1d011a082d",
   "metadata": {
    "tags": []
   },
   "outputs": [
    {
     "name": "stderr",
     "output_type": "stream",
     "text": [
      "[Stage 501:============================>                            (1 + 1) / 2]\r"
     ]
    },
    {
     "name": "stdout",
     "output_type": "stream",
     "text": [
      "+---------+--------------------+\n",
      "|subreddit|              author|\n",
      "+---------+--------------------+\n",
      "| dogecoin|           nanoeon20|\n",
      "| dogecoin|        okokdogedoge|\n",
      "| dogecoin|            Bigcrief|\n",
      "| dogecoin|       Atexbymorning|\n",
      "| dogecoin|        Steven_Ray20|\n",
      "| dogecoin|         dogelovertr|\n",
      "| dogecoin|     Fit_Culture2118|\n",
      "| dogecoin|          lucivaryas|\n",
      "| dogecoin|   AllofaSuddenStory|\n",
      "| dogecoin|         OkDrink5993|\n",
      "| dogecoin|             51oekim|\n",
      "| dogecoin|      Entire_Toe6149|\n",
      "| dogecoin|        Asparagus561|\n",
      "| dogecoin|          thesean108|\n",
      "| dogecoin|Intelligent-Judge304|\n",
      "| dogecoin|      foreverloveyou|\n",
      "| dogecoin|             makai99|\n",
      "| dogecoin|Traditional-System10|\n",
      "| dogecoin|    silversqueezer21|\n",
      "| dogecoin|     One_Welder_9088|\n",
      "+---------+--------------------+\n",
      "only showing top 20 rows\n",
      "\n"
     ]
    },
    {
     "name": "stderr",
     "output_type": "stream",
     "text": [
      "                                                                                \r"
     ]
    }
   ],
   "source": [
    "mono_users.show()"
   ]
  },
  {
   "cell_type": "code",
   "execution_count": 116,
   "id": "505368d2-c9ba-48f6-90f5-12566f6f9af8",
   "metadata": {
    "tags": []
   },
   "outputs": [],
   "source": [
    "# Table indicating subreddit/s each user is part of\n",
    "\n",
    "user_channels = mono_users.unionByName(common_users)"
   ]
  },
  {
   "cell_type": "code",
   "execution_count": 117,
   "id": "75998355-e4e4-4d4f-8df5-19d4ceeac7af",
   "metadata": {
    "tags": []
   },
   "outputs": [
    {
     "name": "stderr",
     "output_type": "stream",
     "text": [
      "[Stage 552:======================================>                  (2 + 1) / 3]\r"
     ]
    },
    {
     "name": "stdout",
     "output_type": "stream",
     "text": [
      "+--------------+-----+\n",
      "|     subreddit|count|\n",
      "+--------------+-----+\n",
      "|CryptoCurrency|23007|\n",
      "|      dogecoin|61954|\n",
      "|          both| 2782|\n",
      "+--------------+-----+\n",
      "\n"
     ]
    },
    {
     "name": "stderr",
     "output_type": "stream",
     "text": [
      "                                                                                \r"
     ]
    }
   ],
   "source": [
    "user_channels.groupBy('subreddit').count().show()"
   ]
  },
  {
   "cell_type": "code",
   "execution_count": 118,
   "id": "b3af744b-b32c-48e1-a7f1-ef5bd416473e",
   "metadata": {
    "tags": []
   },
   "outputs": [
    {
     "name": "stderr",
     "output_type": "stream",
     "text": [
      "                                                                                \r"
     ]
    },
    {
     "data": {
      "text/plain": [
       "87743"
      ]
     },
     "execution_count": 118,
     "metadata": {},
     "output_type": "execute_result"
    }
   ],
   "source": [
    "user_channels.count()"
   ]
  },
  {
   "cell_type": "code",
   "execution_count": 120,
   "id": "e793281e-e5cd-45ea-bf0a-4f081c746809",
   "metadata": {
    "tags": []
   },
   "outputs": [],
   "source": [
    "# Create a master table of user subreddit membership and activity stats\n",
    "\n",
    "master_user = user_channels.join(user_stats_join_2, user_channels.author == user_stats_join_2.user, \"inner\")"
   ]
  },
  {
   "cell_type": "code",
   "execution_count": 121,
   "id": "4df58a70-ef5e-4ee5-970f-5eee3ba7f747",
   "metadata": {
    "tags": []
   },
   "outputs": [
    {
     "name": "stderr",
     "output_type": "stream",
     "text": [
      "                                                                                \r"
     ]
    },
    {
     "data": {
      "text/plain": [
       "87743"
      ]
     },
     "execution_count": 121,
     "metadata": {},
     "output_type": "execute_result"
    }
   ],
   "source": [
    "master_user.count()"
   ]
  },
  {
   "cell_type": "code",
   "execution_count": 130,
   "id": "3e44ef4d-e64d-4801-a5c1-0dd911d4e3cf",
   "metadata": {
    "tags": []
   },
   "outputs": [],
   "source": [
    "master_user_df = master_user.groupBy('subreddit').agg(f.count(\"*\").alias('n_users'),\\\n",
    "                                     f.sum('n_posts').alias('n_posts'),\\\n",
    "                                     f.sum('n_comments').alias('n_comments'),\\\n",
    "                                     f.round(f.avg('avg_score_post'), 2).alias('avg_score_posts'),\\\n",
    "                                     f.round(f.avg('avg_score_com'), 2).alias('avg_score_coms'))\\\n",
    ".withColumn('posts_per_user', f.round((col('n_posts') / col('n_users')), 2))\\\n",
    ".withColumn('coms_per_user', f.round((col('n_comments') / col('n_users')), 2))"
   ]
  },
  {
   "cell_type": "code",
   "execution_count": 132,
   "id": "02df3203-fa74-4a76-847e-4a646cd87b1e",
   "metadata": {
    "tags": []
   },
   "outputs": [
    {
     "name": "stderr",
     "output_type": "stream",
     "text": [
      "                                                                                \r"
     ]
    },
    {
     "name": "stdout",
     "output_type": "stream",
     "text": [
      "+--------------+-------+-------+----------+---------------+--------------+--------------+-------------+\n",
      "|     subreddit|n_users|n_posts|n_comments|avg_score_posts|avg_score_coms|posts_per_user|coms_per_user|\n",
      "+--------------+-------+-------+----------+---------------+--------------+--------------+-------------+\n",
      "|CryptoCurrency|  23007|   1321|     67573|           2.69|          2.99|          0.06|         2.94|\n",
      "|          both|   2782|  11845|    256874|           16.4|          2.99|          4.26|        92.33|\n",
      "|      dogecoin|  61954|  34207|    247632|          10.02|          2.93|          0.55|          4.0|\n",
      "+--------------+-------+-------+----------+---------------+--------------+--------------+-------------+\n",
      "\n"
     ]
    }
   ],
   "source": [
    "master_user_df.show()"
   ]
  }
 ],
 "metadata": {
  "availableInstances": [
   {
    "_defaultOrder": 0,
    "_isFastLaunch": true,
    "category": "General purpose",
    "gpuNum": 0,
    "hideHardwareSpecs": false,
    "memoryGiB": 4,
    "name": "ml.t3.medium",
    "vcpuNum": 2
   },
   {
    "_defaultOrder": 1,
    "_isFastLaunch": false,
    "category": "General purpose",
    "gpuNum": 0,
    "hideHardwareSpecs": false,
    "memoryGiB": 8,
    "name": "ml.t3.large",
    "vcpuNum": 2
   },
   {
    "_defaultOrder": 2,
    "_isFastLaunch": false,
    "category": "General purpose",
    "gpuNum": 0,
    "hideHardwareSpecs": false,
    "memoryGiB": 16,
    "name": "ml.t3.xlarge",
    "vcpuNum": 4
   },
   {
    "_defaultOrder": 3,
    "_isFastLaunch": false,
    "category": "General purpose",
    "gpuNum": 0,
    "hideHardwareSpecs": false,
    "memoryGiB": 32,
    "name": "ml.t3.2xlarge",
    "vcpuNum": 8
   },
   {
    "_defaultOrder": 4,
    "_isFastLaunch": true,
    "category": "General purpose",
    "gpuNum": 0,
    "hideHardwareSpecs": false,
    "memoryGiB": 8,
    "name": "ml.m5.large",
    "vcpuNum": 2
   },
   {
    "_defaultOrder": 5,
    "_isFastLaunch": false,
    "category": "General purpose",
    "gpuNum": 0,
    "hideHardwareSpecs": false,
    "memoryGiB": 16,
    "name": "ml.m5.xlarge",
    "vcpuNum": 4
   },
   {
    "_defaultOrder": 6,
    "_isFastLaunch": false,
    "category": "General purpose",
    "gpuNum": 0,
    "hideHardwareSpecs": false,
    "memoryGiB": 32,
    "name": "ml.m5.2xlarge",
    "vcpuNum": 8
   },
   {
    "_defaultOrder": 7,
    "_isFastLaunch": false,
    "category": "General purpose",
    "gpuNum": 0,
    "hideHardwareSpecs": false,
    "memoryGiB": 64,
    "name": "ml.m5.4xlarge",
    "vcpuNum": 16
   },
   {
    "_defaultOrder": 8,
    "_isFastLaunch": false,
    "category": "General purpose",
    "gpuNum": 0,
    "hideHardwareSpecs": false,
    "memoryGiB": 128,
    "name": "ml.m5.8xlarge",
    "vcpuNum": 32
   },
   {
    "_defaultOrder": 9,
    "_isFastLaunch": false,
    "category": "General purpose",
    "gpuNum": 0,
    "hideHardwareSpecs": false,
    "memoryGiB": 192,
    "name": "ml.m5.12xlarge",
    "vcpuNum": 48
   },
   {
    "_defaultOrder": 10,
    "_isFastLaunch": false,
    "category": "General purpose",
    "gpuNum": 0,
    "hideHardwareSpecs": false,
    "memoryGiB": 256,
    "name": "ml.m5.16xlarge",
    "vcpuNum": 64
   },
   {
    "_defaultOrder": 11,
    "_isFastLaunch": false,
    "category": "General purpose",
    "gpuNum": 0,
    "hideHardwareSpecs": false,
    "memoryGiB": 384,
    "name": "ml.m5.24xlarge",
    "vcpuNum": 96
   },
   {
    "_defaultOrder": 12,
    "_isFastLaunch": false,
    "category": "General purpose",
    "gpuNum": 0,
    "hideHardwareSpecs": false,
    "memoryGiB": 8,
    "name": "ml.m5d.large",
    "vcpuNum": 2
   },
   {
    "_defaultOrder": 13,
    "_isFastLaunch": false,
    "category": "General purpose",
    "gpuNum": 0,
    "hideHardwareSpecs": false,
    "memoryGiB": 16,
    "name": "ml.m5d.xlarge",
    "vcpuNum": 4
   },
   {
    "_defaultOrder": 14,
    "_isFastLaunch": false,
    "category": "General purpose",
    "gpuNum": 0,
    "hideHardwareSpecs": false,
    "memoryGiB": 32,
    "name": "ml.m5d.2xlarge",
    "vcpuNum": 8
   },
   {
    "_defaultOrder": 15,
    "_isFastLaunch": false,
    "category": "General purpose",
    "gpuNum": 0,
    "hideHardwareSpecs": false,
    "memoryGiB": 64,
    "name": "ml.m5d.4xlarge",
    "vcpuNum": 16
   },
   {
    "_defaultOrder": 16,
    "_isFastLaunch": false,
    "category": "General purpose",
    "gpuNum": 0,
    "hideHardwareSpecs": false,
    "memoryGiB": 128,
    "name": "ml.m5d.8xlarge",
    "vcpuNum": 32
   },
   {
    "_defaultOrder": 17,
    "_isFastLaunch": false,
    "category": "General purpose",
    "gpuNum": 0,
    "hideHardwareSpecs": false,
    "memoryGiB": 192,
    "name": "ml.m5d.12xlarge",
    "vcpuNum": 48
   },
   {
    "_defaultOrder": 18,
    "_isFastLaunch": false,
    "category": "General purpose",
    "gpuNum": 0,
    "hideHardwareSpecs": false,
    "memoryGiB": 256,
    "name": "ml.m5d.16xlarge",
    "vcpuNum": 64
   },
   {
    "_defaultOrder": 19,
    "_isFastLaunch": false,
    "category": "General purpose",
    "gpuNum": 0,
    "hideHardwareSpecs": false,
    "memoryGiB": 384,
    "name": "ml.m5d.24xlarge",
    "vcpuNum": 96
   },
   {
    "_defaultOrder": 20,
    "_isFastLaunch": false,
    "category": "General purpose",
    "gpuNum": 0,
    "hideHardwareSpecs": true,
    "memoryGiB": 0,
    "name": "ml.geospatial.interactive",
    "supportedImageNames": [
     "sagemaker-geospatial-v1-0"
    ],
    "vcpuNum": 0
   },
   {
    "_defaultOrder": 21,
    "_isFastLaunch": true,
    "category": "Compute optimized",
    "gpuNum": 0,
    "hideHardwareSpecs": false,
    "memoryGiB": 4,
    "name": "ml.c5.large",
    "vcpuNum": 2
   },
   {
    "_defaultOrder": 22,
    "_isFastLaunch": false,
    "category": "Compute optimized",
    "gpuNum": 0,
    "hideHardwareSpecs": false,
    "memoryGiB": 8,
    "name": "ml.c5.xlarge",
    "vcpuNum": 4
   },
   {
    "_defaultOrder": 23,
    "_isFastLaunch": false,
    "category": "Compute optimized",
    "gpuNum": 0,
    "hideHardwareSpecs": false,
    "memoryGiB": 16,
    "name": "ml.c5.2xlarge",
    "vcpuNum": 8
   },
   {
    "_defaultOrder": 24,
    "_isFastLaunch": false,
    "category": "Compute optimized",
    "gpuNum": 0,
    "hideHardwareSpecs": false,
    "memoryGiB": 32,
    "name": "ml.c5.4xlarge",
    "vcpuNum": 16
   },
   {
    "_defaultOrder": 25,
    "_isFastLaunch": false,
    "category": "Compute optimized",
    "gpuNum": 0,
    "hideHardwareSpecs": false,
    "memoryGiB": 72,
    "name": "ml.c5.9xlarge",
    "vcpuNum": 36
   },
   {
    "_defaultOrder": 26,
    "_isFastLaunch": false,
    "category": "Compute optimized",
    "gpuNum": 0,
    "hideHardwareSpecs": false,
    "memoryGiB": 96,
    "name": "ml.c5.12xlarge",
    "vcpuNum": 48
   },
   {
    "_defaultOrder": 27,
    "_isFastLaunch": false,
    "category": "Compute optimized",
    "gpuNum": 0,
    "hideHardwareSpecs": false,
    "memoryGiB": 144,
    "name": "ml.c5.18xlarge",
    "vcpuNum": 72
   },
   {
    "_defaultOrder": 28,
    "_isFastLaunch": false,
    "category": "Compute optimized",
    "gpuNum": 0,
    "hideHardwareSpecs": false,
    "memoryGiB": 192,
    "name": "ml.c5.24xlarge",
    "vcpuNum": 96
   },
   {
    "_defaultOrder": 29,
    "_isFastLaunch": true,
    "category": "Accelerated computing",
    "gpuNum": 1,
    "hideHardwareSpecs": false,
    "memoryGiB": 16,
    "name": "ml.g4dn.xlarge",
    "vcpuNum": 4
   },
   {
    "_defaultOrder": 30,
    "_isFastLaunch": false,
    "category": "Accelerated computing",
    "gpuNum": 1,
    "hideHardwareSpecs": false,
    "memoryGiB": 32,
    "name": "ml.g4dn.2xlarge",
    "vcpuNum": 8
   },
   {
    "_defaultOrder": 31,
    "_isFastLaunch": false,
    "category": "Accelerated computing",
    "gpuNum": 1,
    "hideHardwareSpecs": false,
    "memoryGiB": 64,
    "name": "ml.g4dn.4xlarge",
    "vcpuNum": 16
   },
   {
    "_defaultOrder": 32,
    "_isFastLaunch": false,
    "category": "Accelerated computing",
    "gpuNum": 1,
    "hideHardwareSpecs": false,
    "memoryGiB": 128,
    "name": "ml.g4dn.8xlarge",
    "vcpuNum": 32
   },
   {
    "_defaultOrder": 33,
    "_isFastLaunch": false,
    "category": "Accelerated computing",
    "gpuNum": 4,
    "hideHardwareSpecs": false,
    "memoryGiB": 192,
    "name": "ml.g4dn.12xlarge",
    "vcpuNum": 48
   },
   {
    "_defaultOrder": 34,
    "_isFastLaunch": false,
    "category": "Accelerated computing",
    "gpuNum": 1,
    "hideHardwareSpecs": false,
    "memoryGiB": 256,
    "name": "ml.g4dn.16xlarge",
    "vcpuNum": 64
   },
   {
    "_defaultOrder": 35,
    "_isFastLaunch": false,
    "category": "Accelerated computing",
    "gpuNum": 1,
    "hideHardwareSpecs": false,
    "memoryGiB": 61,
    "name": "ml.p3.2xlarge",
    "vcpuNum": 8
   },
   {
    "_defaultOrder": 36,
    "_isFastLaunch": false,
    "category": "Accelerated computing",
    "gpuNum": 4,
    "hideHardwareSpecs": false,
    "memoryGiB": 244,
    "name": "ml.p3.8xlarge",
    "vcpuNum": 32
   },
   {
    "_defaultOrder": 37,
    "_isFastLaunch": false,
    "category": "Accelerated computing",
    "gpuNum": 8,
    "hideHardwareSpecs": false,
    "memoryGiB": 488,
    "name": "ml.p3.16xlarge",
    "vcpuNum": 64
   },
   {
    "_defaultOrder": 38,
    "_isFastLaunch": false,
    "category": "Accelerated computing",
    "gpuNum": 8,
    "hideHardwareSpecs": false,
    "memoryGiB": 768,
    "name": "ml.p3dn.24xlarge",
    "vcpuNum": 96
   },
   {
    "_defaultOrder": 39,
    "_isFastLaunch": false,
    "category": "Memory Optimized",
    "gpuNum": 0,
    "hideHardwareSpecs": false,
    "memoryGiB": 16,
    "name": "ml.r5.large",
    "vcpuNum": 2
   },
   {
    "_defaultOrder": 40,
    "_isFastLaunch": false,
    "category": "Memory Optimized",
    "gpuNum": 0,
    "hideHardwareSpecs": false,
    "memoryGiB": 32,
    "name": "ml.r5.xlarge",
    "vcpuNum": 4
   },
   {
    "_defaultOrder": 41,
    "_isFastLaunch": false,
    "category": "Memory Optimized",
    "gpuNum": 0,
    "hideHardwareSpecs": false,
    "memoryGiB": 64,
    "name": "ml.r5.2xlarge",
    "vcpuNum": 8
   },
   {
    "_defaultOrder": 42,
    "_isFastLaunch": false,
    "category": "Memory Optimized",
    "gpuNum": 0,
    "hideHardwareSpecs": false,
    "memoryGiB": 128,
    "name": "ml.r5.4xlarge",
    "vcpuNum": 16
   },
   {
    "_defaultOrder": 43,
    "_isFastLaunch": false,
    "category": "Memory Optimized",
    "gpuNum": 0,
    "hideHardwareSpecs": false,
    "memoryGiB": 256,
    "name": "ml.r5.8xlarge",
    "vcpuNum": 32
   },
   {
    "_defaultOrder": 44,
    "_isFastLaunch": false,
    "category": "Memory Optimized",
    "gpuNum": 0,
    "hideHardwareSpecs": false,
    "memoryGiB": 384,
    "name": "ml.r5.12xlarge",
    "vcpuNum": 48
   },
   {
    "_defaultOrder": 45,
    "_isFastLaunch": false,
    "category": "Memory Optimized",
    "gpuNum": 0,
    "hideHardwareSpecs": false,
    "memoryGiB": 512,
    "name": "ml.r5.16xlarge",
    "vcpuNum": 64
   },
   {
    "_defaultOrder": 46,
    "_isFastLaunch": false,
    "category": "Memory Optimized",
    "gpuNum": 0,
    "hideHardwareSpecs": false,
    "memoryGiB": 768,
    "name": "ml.r5.24xlarge",
    "vcpuNum": 96
   },
   {
    "_defaultOrder": 47,
    "_isFastLaunch": false,
    "category": "Accelerated computing",
    "gpuNum": 1,
    "hideHardwareSpecs": false,
    "memoryGiB": 16,
    "name": "ml.g5.xlarge",
    "vcpuNum": 4
   },
   {
    "_defaultOrder": 48,
    "_isFastLaunch": false,
    "category": "Accelerated computing",
    "gpuNum": 1,
    "hideHardwareSpecs": false,
    "memoryGiB": 32,
    "name": "ml.g5.2xlarge",
    "vcpuNum": 8
   },
   {
    "_defaultOrder": 49,
    "_isFastLaunch": false,
    "category": "Accelerated computing",
    "gpuNum": 1,
    "hideHardwareSpecs": false,
    "memoryGiB": 64,
    "name": "ml.g5.4xlarge",
    "vcpuNum": 16
   },
   {
    "_defaultOrder": 50,
    "_isFastLaunch": false,
    "category": "Accelerated computing",
    "gpuNum": 1,
    "hideHardwareSpecs": false,
    "memoryGiB": 128,
    "name": "ml.g5.8xlarge",
    "vcpuNum": 32
   },
   {
    "_defaultOrder": 51,
    "_isFastLaunch": false,
    "category": "Accelerated computing",
    "gpuNum": 1,
    "hideHardwareSpecs": false,
    "memoryGiB": 256,
    "name": "ml.g5.16xlarge",
    "vcpuNum": 64
   },
   {
    "_defaultOrder": 52,
    "_isFastLaunch": false,
    "category": "Accelerated computing",
    "gpuNum": 4,
    "hideHardwareSpecs": false,
    "memoryGiB": 192,
    "name": "ml.g5.12xlarge",
    "vcpuNum": 48
   },
   {
    "_defaultOrder": 53,
    "_isFastLaunch": false,
    "category": "Accelerated computing",
    "gpuNum": 4,
    "hideHardwareSpecs": false,
    "memoryGiB": 384,
    "name": "ml.g5.24xlarge",
    "vcpuNum": 96
   },
   {
    "_defaultOrder": 54,
    "_isFastLaunch": false,
    "category": "Accelerated computing",
    "gpuNum": 8,
    "hideHardwareSpecs": false,
    "memoryGiB": 768,
    "name": "ml.g5.48xlarge",
    "vcpuNum": 192
   },
   {
    "_defaultOrder": 55,
    "_isFastLaunch": false,
    "category": "Accelerated computing",
    "gpuNum": 8,
    "hideHardwareSpecs": false,
    "memoryGiB": 1152,
    "name": "ml.p4d.24xlarge",
    "vcpuNum": 96
   },
   {
    "_defaultOrder": 56,
    "_isFastLaunch": false,
    "category": "Accelerated computing",
    "gpuNum": 8,
    "hideHardwareSpecs": false,
    "memoryGiB": 1152,
    "name": "ml.p4de.24xlarge",
    "vcpuNum": 96
   },
   {
    "_defaultOrder": 57,
    "_isFastLaunch": false,
    "category": "Accelerated computing",
    "gpuNum": 0,
    "hideHardwareSpecs": false,
    "memoryGiB": 32,
    "name": "ml.trn1.2xlarge",
    "vcpuNum": 8
   },
   {
    "_defaultOrder": 58,
    "_isFastLaunch": false,
    "category": "Accelerated computing",
    "gpuNum": 0,
    "hideHardwareSpecs": false,
    "memoryGiB": 512,
    "name": "ml.trn1.32xlarge",
    "vcpuNum": 128
   },
   {
    "_defaultOrder": 59,
    "_isFastLaunch": false,
    "category": "Accelerated computing",
    "gpuNum": 0,
    "hideHardwareSpecs": false,
    "memoryGiB": 512,
    "name": "ml.trn1n.32xlarge",
    "vcpuNum": 128
   }
  ],
  "instance_type": "ml.t3.large",
  "kernelspec": {
   "display_name": "Python 3 (Data Science 3.0)",
   "language": "python",
   "name": "python3__SAGEMAKER_INTERNAL__arn:aws:sagemaker:us-east-1:081325390199:image/sagemaker-data-science-310-v1"
  },
  "language_info": {
   "codemirror_mode": {
    "name": "ipython",
    "version": 3
   },
   "file_extension": ".py",
   "mimetype": "text/x-python",
   "name": "python",
   "nbconvert_exporter": "python",
   "pygments_lexer": "ipython3",
   "version": "3.10.6"
  }
 },
 "nbformat": 4,
 "nbformat_minor": 5
}
